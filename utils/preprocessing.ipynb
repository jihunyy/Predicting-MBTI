{
 "cells": [
  {
   "cell_type": "markdown",
   "metadata": {},
   "source": [
    "### 기본 세팅"
   ]
  },
  {
   "cell_type": "code",
   "execution_count": 4,
   "metadata": {
    "scrolled": true
   },
   "outputs": [],
   "source": [
    "import pandas as pd\n",
    "import numpy as np\n",
    "import pickle\n",
    "import re\n",
    "from tqdm import tqdm\n",
    "import matplotlib.pyplot as plt\n",
    "import seaborn as sns\n",
    "\n",
    "from sklearn.preprocessing import LabelEncoder\n",
    "from sklearn.feature_extraction.text import CountVectorizer, TfidfVectorizer\n",
    "\n",
    "from konlpy.tag import Okt\n",
    "from konlpy.tag import Kkma\n",
    "from konlpy.tag import Komoran\n",
    "from konlpy.tag import Hannanum\n",
    "okt = Okt()\n",
    "kkma = Kkma()\n",
    "komoran = Komoran()\n",
    "hannanum = Hannanum()"
   ]
  },
  {
   "cell_type": "markdown",
   "metadata": {},
   "source": [
    "### 통합된 데이터 불러오기"
   ]
  },
  {
   "cell_type": "code",
   "execution_count": 8,
   "metadata": {},
   "outputs": [],
   "source": [
    "data = pd.read_csv('./data_mbticafe.csv')\n",
    "data.drop(['Unnamed: 0'], axis=1, inplace=True)"
   ]
  },
  {
   "cell_type": "code",
   "execution_count": 9,
   "metadata": {},
   "outputs": [
    {
     "data": {
      "text/html": [
       "<div>\n",
       "<style scoped>\n",
       "    .dataframe tbody tr th:only-of-type {\n",
       "        vertical-align: middle;\n",
       "    }\n",
       "\n",
       "    .dataframe tbody tr th {\n",
       "        vertical-align: top;\n",
       "    }\n",
       "\n",
       "    .dataframe thead th {\n",
       "        text-align: right;\n",
       "    }\n",
       "</style>\n",
       "<table border=\"1\" class=\"dataframe\">\n",
       "  <thead>\n",
       "    <tr style=\"text-align: right;\">\n",
       "      <th></th>\n",
       "      <th>articleid</th>\n",
       "      <th>mbti</th>\n",
       "      <th>title</th>\n",
       "      <th>content</th>\n",
       "      <th>menu_id</th>\n",
       "    </tr>\n",
       "  </thead>\n",
       "  <tbody>\n",
       "    <tr>\n",
       "      <th>0</th>\n",
       "      <td>277264</td>\n",
       "      <td>estj</td>\n",
       "      <td>Estj istj 차이는 뭘까요?</td>\n",
       "      <td>['저는 estj인데 istj 특징을 보면 별로 저랑 다르지않은것같아요. 제 주변에...</td>\n",
       "      <td>11</td>\n",
       "    </tr>\n",
       "    <tr>\n",
       "      <th>1</th>\n",
       "      <td>277263</td>\n",
       "      <td>istj</td>\n",
       "      <td>블루스 추천</td>\n",
       "      <td>[\"동영상\\n\\n\\nGrover Washington Jr. - Ain't No Su...</td>\n",
       "      <td>11</td>\n",
       "    </tr>\n",
       "    <tr>\n",
       "      <th>2</th>\n",
       "      <td>277216</td>\n",
       "      <td>enfp</td>\n",
       "      <td>ENFP 여자 ESTJ 남자친구랑 오래갈 수 있을까요 ㅠㅠ</td>\n",
       "      <td>['안녕하세요 ENFP 여자입니다 ㅠㅠ매번 짧고 금방 식는 연애만 해 왔는데지금 남...</td>\n",
       "      <td>11</td>\n",
       "    </tr>\n",
       "    <tr>\n",
       "      <th>3</th>\n",
       "      <td>276899</td>\n",
       "      <td>istj</td>\n",
       "      <td>생각에 확신이 없는 ISTJ</td>\n",
       "      <td>['직장밴드에 이해하기 애매한 글이 올라왔어요.제 생각에는 찬성, 반대로만 물으면 ...</td>\n",
       "      <td>11</td>\n",
       "    </tr>\n",
       "    <tr>\n",
       "      <th>4</th>\n",
       "      <td>276311</td>\n",
       "      <td>estj</td>\n",
       "      <td>원하는 연애스타일 있으신가요?</td>\n",
       "      <td>[\"저는 개인적으로 알콩달콩도 좋지만 '레드벨벳-싸이코' 노래같은 그런연애 해보고 ...</td>\n",
       "      <td>11</td>\n",
       "    </tr>\n",
       "    <tr>\n",
       "      <th>...</th>\n",
       "      <td>...</td>\n",
       "      <td>...</td>\n",
       "      <td>...</td>\n",
       "      <td>...</td>\n",
       "      <td>...</td>\n",
       "    </tr>\n",
       "    <tr>\n",
       "      <th>48374</th>\n",
       "      <td>468294</td>\n",
       "      <td>infp</td>\n",
       "      <td>infp 분들 어릴때 환경 어땠나요 ?</td>\n",
       "      <td>['\\u200b요즘 제가 교회에서 하는 연애•결혼 예비학교 강의를 듣는데 자존감이 ...</td>\n",
       "      <td>18</td>\n",
       "    </tr>\n",
       "    <tr>\n",
       "      <th>48375</th>\n",
       "      <td>468184</td>\n",
       "      <td>infp</td>\n",
       "      <td>마음이 너무 약해서 힘들어요..</td>\n",
       "      <td>['사실 이건 제가 불건강 인프피라서 그런 거 같기도 한데말 하나하나에 너무 예민하...</td>\n",
       "      <td>18</td>\n",
       "    </tr>\n",
       "    <tr>\n",
       "      <th>48376</th>\n",
       "      <td>468158</td>\n",
       "      <td>enfj</td>\n",
       "      <td>enfp분들 운전은 잘 하시나요?</td>\n",
       "      <td>['면허따려고 하는데..겁도 나고..(너무 신나게 달릴까봐요 ㅋㅋㅋ)\\u200b물론...</td>\n",
       "      <td>18</td>\n",
       "    </tr>\n",
       "    <tr>\n",
       "      <th>48377</th>\n",
       "      <td>468061</td>\n",
       "      <td>infp</td>\n",
       "      <td>엔프피 주목! 인티제의 귀여운 점</td>\n",
       "      <td>['걸어가면서 생각하다가 정신팔려서 나뭇가지에 걸림\\u200b혼자서 웃긴 생각하다가...</td>\n",
       "      <td>18</td>\n",
       "    </tr>\n",
       "    <tr>\n",
       "      <th>48378</th>\n",
       "      <td>467982</td>\n",
       "      <td>enfp</td>\n",
       "      <td>INFP 콜렉터가 되고파</td>\n",
       "      <td>['♪♪그들이 사는 세계를 들여다볼테야나도 초대햐줘용 😛왜 내 주변엔 없 ㅜㅜ?']</td>\n",
       "      <td>18</td>\n",
       "    </tr>\n",
       "  </tbody>\n",
       "</table>\n",
       "<p>48379 rows × 5 columns</p>\n",
       "</div>"
      ],
      "text/plain": [
       "       articleid  mbti                             title  \\\n",
       "0         277264  estj                Estj istj 차이는 뭘까요?   \n",
       "1         277263  istj                            블루스 추천   \n",
       "2         277216  enfp  ENFP 여자 ESTJ 남자친구랑 오래갈 수 있을까요 ㅠㅠ   \n",
       "3         276899  istj                   생각에 확신이 없는 ISTJ   \n",
       "4         276311  estj                  원하는 연애스타일 있으신가요?   \n",
       "...          ...   ...                               ...   \n",
       "48374     468294  infp             infp 분들 어릴때 환경 어땠나요 ?   \n",
       "48375     468184  infp                 마음이 너무 약해서 힘들어요..   \n",
       "48376     468158  enfj                enfp분들 운전은 잘 하시나요?   \n",
       "48377     468061  infp                엔프피 주목! 인티제의 귀여운 점   \n",
       "48378     467982  enfp                     INFP 콜렉터가 되고파   \n",
       "\n",
       "                                                 content  menu_id  \n",
       "0      ['저는 estj인데 istj 특징을 보면 별로 저랑 다르지않은것같아요. 제 주변에...       11  \n",
       "1      [\"동영상\\n\\n\\nGrover Washington Jr. - Ain't No Su...       11  \n",
       "2      ['안녕하세요 ENFP 여자입니다 ㅠㅠ매번 짧고 금방 식는 연애만 해 왔는데지금 남...       11  \n",
       "3      ['직장밴드에 이해하기 애매한 글이 올라왔어요.제 생각에는 찬성, 반대로만 물으면 ...       11  \n",
       "4      [\"저는 개인적으로 알콩달콩도 좋지만 '레드벨벳-싸이코' 노래같은 그런연애 해보고 ...       11  \n",
       "...                                                  ...      ...  \n",
       "48374  ['\\u200b요즘 제가 교회에서 하는 연애•결혼 예비학교 강의를 듣는데 자존감이 ...       18  \n",
       "48375  ['사실 이건 제가 불건강 인프피라서 그런 거 같기도 한데말 하나하나에 너무 예민하...       18  \n",
       "48376  ['면허따려고 하는데..겁도 나고..(너무 신나게 달릴까봐요 ㅋㅋㅋ)\\u200b물론...       18  \n",
       "48377  ['걸어가면서 생각하다가 정신팔려서 나뭇가지에 걸림\\u200b혼자서 웃긴 생각하다가...       18  \n",
       "48378     ['♪♪그들이 사는 세계를 들여다볼테야나도 초대햐줘용 😛왜 내 주변엔 없 ㅜㅜ?']       18  \n",
       "\n",
       "[48379 rows x 5 columns]"
      ]
     },
     "execution_count": 9,
     "metadata": {},
     "output_type": "execute_result"
    }
   ],
   "source": [
    "data"
   ]
  },
  {
   "cell_type": "markdown",
   "metadata": {},
   "source": [
    "### 전처리 함수"
   ]
  },
  {
   "cell_type": "code",
   "execution_count": 13,
   "metadata": {},
   "outputs": [],
   "source": [
    "# 전처리 함수 정의\n",
    "def cleansing(text):  \n",
    "\n",
    "    # 텍스트 길이 단축\n",
    "    text = text[2:-2]\n",
    "    \n",
    "    # 줄바꿈 표현 제거\n",
    "    text = re.sub(r'[\\\\n]+', '', text)\n",
    "    text = re.sub(re.compile(r'\\s+'), ' ', text)\n",
    "    text = re.sub('([u200b]+)', ' ', text)\n",
    "    text = re.sub('[\\r|\\n]', ' ', text)\n",
    "     \n",
    "    # 이메일 제거\n",
    "    text = re.sub('([a-zA-Z0-9_.+-]+@[a-zA-Z0-9-]+\\.[a-zA-Z0-9-.]+\\.[a-zA-Z0-9-.]+)', ' ', text)\n",
    "    \n",
    "    # url 제거\n",
    "    text = re.sub('www.(?:[-\\w.]|(?:\\da-fA-F]{2}))+', ' ', text)\n",
    "    text = re.sub('(http|ftp|https)://(?:[-\\w.]|(?:\\da-fA-F]{3}))+', ' ', text)  \n",
    "     \n",
    "    # 괄호 안 내용 제거\n",
    "    text = re.sub(r'\\([^)]*\\)', ' ', str(text)) \n",
    "    text = re.sub(r'\\[[^]]*\\]', ' ', text)\n",
    "    \n",
    "    # 특수기호 포함 내용 제거\n",
    "    text = re.sub('\\d\\W', ' ', text)\n",
    "    text = re.sub('[^\\w\\s\\.\\,\\%\\~]', ' ', text)\n",
    "    text = re.sub('[^\\w\\s]', ' ', text)\n",
    "    \n",
    "    # 한글 자음, 모음 제거\n",
    "    text = re.sub('([ㄱ-ㅎㅏ-ㅣ]+)', ' ', text)\n",
    "\n",
    "    # MBTI 연관어 원래대로 변형    \n",
    "    text = re.sub('인프피|인픞', 'infp', text)\n",
    "    text = re.sub('엔프피|엔픞', 'enfp', text)\n",
    "    text = re.sub('인팁', 'intp', text)\n",
    "    text = re.sub('엔팁', 'entp', text)\n",
    "    text = re.sub('잇프피|잇픞', 'isfp', text)\n",
    "    text = re.sub('엣프피|엣픞', 'esfp', text)\n",
    "    text = re.sub('잇팁', 'istp', text)\n",
    "    text = re.sub('엣팁', 'estp', text)\n",
    "    text = re.sub('인프제', 'infj', text)\n",
    "    text = re.sub('엔프제', 'enfj', text)\n",
    "    text = re.sub('잇프제', 'isfj', text)\n",
    "    text = re.sub('엣프제', 'esfj', text)\n",
    "    text = re.sub('인티제', 'intj', text)\n",
    "    text = re.sub('엔티제', 'entj', text)\n",
    "    text = re.sub('잇티제|이티제', 'istj', text)\n",
    "    text = re.sub('엣티제|에스티제', 'estj', text)\n",
    "    \n",
    "    # MBTI 단어 제거\n",
    "    text = re.sub('enfj|enfp|entj|entp|esfj|esfp|estj|estp|infj|infp|intj|intp|isfj|isfp|istj|istp', ' ', text)\n",
    "    \n",
    "    return(text)"
   ]
  },
  {
   "cell_type": "code",
   "execution_count": 16,
   "metadata": {},
   "outputs": [
    {
     "name": "stderr",
     "output_type": "stream",
     "text": [
      "100%|███████████████████████████████████████████████████████████████████████████| 48379/48379 [01:21<00:00, 591.15it/s]\n"
     ]
    }
   ],
   "source": [
    "data1=data.copy()\n",
    "for i in tqdm(range(len(data1))):\n",
    "    data1.loc[i,'content']=cleansing(data1.loc[i,'content']) # 정규표현식\n",
    "#     data1.loc[i,'content']=okt.normalize(data1.loc[i,'content']) # 다듬기"
   ]
  },
  {
   "cell_type": "code",
   "execution_count": 17,
   "metadata": {},
   "outputs": [
    {
     "name": "stdout",
     "output_type": "stream",
     "text": [
      "content 길이 최댓값: 42833\n",
      "content 길이 최솟값: 0\n",
      "content 길이 평균값: 334.8693441369189\n",
      "content 길이 중간값: 136.0\n"
     ]
    },
    {
     "data": {
      "image/png": "[encoded data removed]",
      "text/plain": [
       "<Figure size 432x288 with 1 Axes>"
      ]
     },
     "metadata": {
      "needs_background": "light"
     },
     "output_type": "display_data"
    },
    {
     "data": {
      "image/png": "[encoded data removed]",
      "text/plain": [
       "<Figure size 864x360 with 1 Axes>"
      ]
     },
     "metadata": {
      "needs_background": "light"
     },
     "output_type": "display_data"
    }
   ],
   "source": [
    "# 본문 길이 시각화\n",
    "length=data1['content'].astype(str).apply(len)\n",
    "plt.hist(length, bins=50, alpha=0.5, color='r', label='word')\n",
    "plt.title('histogram of length of content')\n",
    "plt.figure(figsize=(12, 5))\n",
    "plt.boxplot(length, labels=['counts'], showmeans=True)\n",
    "print('content 길이 최댓값: {}'.format(np.max(length)))\n",
    "print('content 길이 최솟값: {}'.format(np.min(length)))\n",
    "print('content 길이 평균값: {}'.format(np.mean(length)))\n",
    "print('content 길이 중간값: {}'.format(np.median(length)))"
   ]
  },
  {
   "cell_type": "code",
   "execution_count": 18,
   "metadata": {},
   "outputs": [],
   "source": [
    "# content 길이 10퍼센트 미만인 글 제거\n",
    "data1.drop(data1[length<np.percentile(length,10)].index, inplace=True)\n",
    "data1=data1.reset_index().drop(['index'], axis=1)"
   ]
  },
  {
   "cell_type": "code",
   "execution_count": 19,
   "metadata": {},
   "outputs": [],
   "source": [
    "data2=data1.copy()"
   ]
  },
  {
   "cell_type": "code",
   "execution_count": 20,
   "metadata": {},
   "outputs": [],
   "source": [
    "def replace_mbti(text):\n",
    "    pattern = '인프피|인픞' \n",
    "    text = re.sub(pattern=pattern,repl='INFP',string=text)\n",
    "    \n",
    "    pattern = '엔프피|엔픞' \n",
    "    text = re.sub(pattern=pattern,repl='ENFP',string=text)\n",
    "    \n",
    "    pattern = '인팁' \n",
    "    text = re.sub(pattern=pattern,repl='INTP',string=text)\n",
    "    \n",
    "    pattern = '엔팁' # 엔 팁\n",
    "    text = re.sub(pattern=pattern,repl='ENTP',string=text)\n",
    "    \n",
    "    pattern = '잇프피|잇픞' \n",
    "    text = re.sub(pattern=pattern,repl='ISFP',string=text)\n",
    "    \n",
    "    pattern = '엣프피|엣픞' \n",
    "    text = re.sub(pattern=pattern,repl='ESFP',string=text)\n",
    "    \n",
    "    pattern = '잇팁' \n",
    "    text = re.sub(pattern=pattern,repl='ISTP',string=text)\n",
    "    \n",
    "    pattern = '엣팁' \n",
    "    text = re.sub(pattern=pattern,repl='ESTP',string=text)\n",
    "    \n",
    "    pattern = '인프제' \n",
    "    text = re.sub(pattern=pattern,repl='INFJ',string=text)\n",
    "    \n",
    "    pattern = '엔프제' \n",
    "    text = re.sub(pattern=pattern,repl='ENFJ',string=text)\n",
    "    \n",
    "    pattern = '잇프제' \n",
    "    text = re.sub(pattern=pattern,repl='ISFJ',string=text)\n",
    "    \n",
    "    pattern = '엣프제' \n",
    "    text = re.sub(pattern=pattern,repl='ESFJ',string=text)\n",
    "    \n",
    "    pattern = '인티제' \n",
    "    text = re.sub(pattern=pattern,repl='INTJ',string=text)\n",
    "    \n",
    "    pattern = '엔티제' \n",
    "    text = re.sub(pattern=pattern,repl='ENTJ',string=text)\n",
    "    \n",
    "    pattern = '잇티제|이티제' # 이티제\n",
    "    text = re.sub(pattern=pattern,repl='ISTJ',string=text)\n",
    "    \n",
    "    pattern = '엣티제|에스티제' # 에스티제\n",
    "    text = re.sub(pattern=pattern,repl='ESTJ',string=text)\n",
    "    \n",
    "    return (text)"
   ]
  },
  {
   "cell_type": "code",
   "execution_count": 21,
   "metadata": {},
   "outputs": [
    {
     "name": "stderr",
     "output_type": "stream",
     "text": [
      "100%|███████████████████████████████████████████████████████████████████████████| 43663/43663 [00:53<00:00, 813.66it/s]\n"
     ]
    }
   ],
   "source": [
    "for i in tqdm(range(len(data2))):\n",
    "    data2.loc[i,'mbti']=replace_mbti(data2.loc[i,'mbti'])\n",
    "    data2.loc[i,'mbti']=data2.loc[i,'mbti'].lower()"
   ]
  },
  {
   "cell_type": "markdown",
   "metadata": {},
   "source": [
    "### 데이터 라벨링"
   ]
  },
  {
   "cell_type": "code",
   "execution_count": 22,
   "metadata": {},
   "outputs": [],
   "source": [
    "# labeling 16개 (0-15)\n",
    "encoder=LabelEncoder()\n",
    "data2['mbti_label']=encoder.fit_transform(data2['mbti'])"
   ]
  },
  {
   "cell_type": "code",
   "execution_count": 23,
   "metadata": {},
   "outputs": [
    {
     "data": {
      "text/plain": [
       "array(['enfj', 'enfp', 'entj', 'entp', 'esfj', 'esfp', 'estj', 'estp',\n",
       "       'infj', 'infp', 'intj', 'intp', 'isfj', 'isfp', 'istj', 'istp'],\n",
       "      dtype=object)"
      ]
     },
     "execution_count": 23,
     "metadata": {},
     "output_type": "execute_result"
    }
   ],
   "source": [
    "# map (0-15)\n",
    "encoder.classes_"
   ]
  },
  {
   "cell_type": "code",
   "execution_count": 24,
   "metadata": {},
   "outputs": [],
   "source": [
    "# labeling binary\n",
    "e=[0,1,2,3,4,5,6,7] \n",
    "n=[0,1,2,3,8,9,10,11] \n",
    "f=[0,1,4,5,8,9,12,13]\n",
    "j=[0,2,4,6,8,10,12,14]\n",
    "\n",
    "# 앞의 알파벳이 1\n",
    "data2['e_i']=data2['mbti_label'].apply(lambda x: 1 if x in e else 0) \n",
    "data2['n_s']=data2['mbti_label'].apply(lambda x: 1 if x in n else 0) \n",
    "data2['f_t']=data2['mbti_label'].apply(lambda x: 1 if x in f else 0) \n",
    "data2['j_p']=data2['mbti_label'].apply(lambda x: 1 if x in j else 0) "
   ]
  },
  {
   "cell_type": "code",
   "execution_count": 25,
   "metadata": {},
   "outputs": [],
   "source": [
    "data2=data2.reset_index().drop(['index'], axis=1)"
   ]
  },
  {
   "cell_type": "code",
   "execution_count": 26,
   "metadata": {},
   "outputs": [
    {
     "name": "stdout",
     "output_type": "stream",
     "text": [
      "<class 'pandas.core.frame.DataFrame'>\n",
      "RangeIndex: 43663 entries, 0 to 43662\n",
      "Data columns (total 10 columns):\n",
      " #   Column      Non-Null Count  Dtype \n",
      "---  ------      --------------  ----- \n",
      " 0   articleid   43663 non-null  int64 \n",
      " 1   mbti        43663 non-null  object\n",
      " 2   title       43663 non-null  object\n",
      " 3   content     43663 non-null  object\n",
      " 4   menu_id     43663 non-null  int64 \n",
      " 5   mbti_label  43663 non-null  int32 \n",
      " 6   e_i         43663 non-null  int64 \n",
      " 7   n_s         43663 non-null  int64 \n",
      " 8   f_t         43663 non-null  int64 \n",
      " 9   j_p         43663 non-null  int64 \n",
      "dtypes: int32(1), int64(6), object(3)\n",
      "memory usage: 3.2+ MB\n"
     ]
    }
   ],
   "source": [
    "data2.info()"
   ]
  },
  {
   "cell_type": "markdown",
   "metadata": {},
   "source": [
    "### 텍스트 정규화"
   ]
  },
  {
   "cell_type": "code",
   "execution_count": 27,
   "metadata": {},
   "outputs": [],
   "source": [
    "# 한국어 띄어쓰기 (안깔림)\n",
    "# from pykospacing import Spacing"
   ]
  },
  {
   "cell_type": "code",
   "execution_count": 28,
   "metadata": {},
   "outputs": [],
   "source": [
    "# # 한국어 맞춤법 검사\n",
    "# from hanspell import spell_checker\n",
    "\n",
    "\n",
    "# for i in tqdm(range(len(data2))):\n",
    "#     data2.loc[i,'content']=spell_checker.check(data2.loc[i,'content']).checked "
   ]
  },
  {
   "cell_type": "code",
   "execution_count": 29,
   "metadata": {},
   "outputs": [],
   "source": [
    "# # 한국어 반복되는 문자 정제\n",
    "# from soynlp.normalizer import *\n",
    "\n",
    "# for i in tqdm(range(len(data2))):\n",
    "#     data2.loc[i,'content']=repeat_normalize(data2.loc[i,'content'], num_repeats=2)\n"
   ]
  },
  {
   "cell_type": "code",
   "execution_count": 30,
   "metadata": {},
   "outputs": [],
   "source": [
    "# # 데이터 확인\n",
    "# i=18\n",
    "# print(data1.content.loc[i,]+'\\n')\n",
    "# print(data2.content.loc[i,])"
   ]
  },
  {
   "cell_type": "code",
   "execution_count": 31,
   "metadata": {},
   "outputs": [],
   "source": [
    "length=data2['content'].astype(str).apply(len)\n",
    "# content 길이 0인 글 제거\n",
    "data2.drop(data2[length==0].index, inplace=True)"
   ]
  },
  {
   "cell_type": "code",
   "execution_count": 32,
   "metadata": {},
   "outputs": [],
   "source": [
    "data2=data2.reset_index().drop(['index'], axis=1)"
   ]
  },
  {
   "cell_type": "markdown",
   "metadata": {},
   "source": [
    "### EDA"
   ]
  },
  {
   "cell_type": "code",
   "execution_count": 33,
   "metadata": {},
   "outputs": [
    {
     "data": {
      "text/plain": [
       "<AxesSubplot:xlabel='mbti', ylabel='count'>"
      ]
     },
     "execution_count": 33,
     "metadata": {},
     "output_type": "execute_result"
    },
    {
     "data": {
      "image/png": "[encoded data removed]",
      "text/plain": [
       "<Figure size 432x288 with 1 Axes>"
      ]
     },
     "metadata": {
      "needs_background": "light"
     },
     "output_type": "display_data"
    }
   ],
   "source": [
    "sns.countplot(x='mbti', data=data2)"
   ]
  },
  {
   "cell_type": "code",
   "execution_count": 34,
   "metadata": {
    "scrolled": true
   },
   "outputs": [
    {
     "name": "stdout",
     "output_type": "stream",
     "text": [
      "0.3581980166273504\n"
     ]
    },
    {
     "data": {
      "image/png": "[encoded data removed]",
      "text/plain": [
       "<Figure size 432x288 with 1 Axes>"
      ]
     },
     "metadata": {
      "needs_background": "light"
     },
     "output_type": "display_data"
    }
   ],
   "source": [
    "sns.countplot(x='e_i', data=data2)\n",
    "print(sum(data2.e_i==1)/len(data2))"
   ]
  },
  {
   "cell_type": "code",
   "execution_count": 35,
   "metadata": {},
   "outputs": [
    {
     "data": {
      "text/plain": [
       "0.7573460366901037"
      ]
     },
     "execution_count": 35,
     "metadata": {},
     "output_type": "execute_result"
    },
    {
     "data": {
      "image/png": "[encoded data removed]",
      "text/plain": [
       "<Figure size 432x288 with 1 Axes>"
      ]
     },
     "metadata": {
      "needs_background": "light"
     },
     "output_type": "display_data"
    }
   ],
   "source": [
    "sns.countplot(x='n_s', data=data2)\n",
    "sum(data2.n_s==1)/len(data2)"
   ]
  },
  {
   "cell_type": "code",
   "execution_count": 36,
   "metadata": {},
   "outputs": [
    {
     "data": {
      "text/plain": [
       "0.5400224446327554"
      ]
     },
     "execution_count": 36,
     "metadata": {},
     "output_type": "execute_result"
    },
    {
     "data": {
      "image/png": "[encoded data removed]",
      "text/plain": [
       "<Figure size 432x288 with 1 Axes>"
      ]
     },
     "metadata": {
      "needs_background": "light"
     },
     "output_type": "display_data"
    }
   ],
   "source": [
    "sns.countplot(x='f_t', data=data2)\n",
    "sum(data2.f_t==1)/len(data2)"
   ]
  },
  {
   "cell_type": "code",
   "execution_count": 37,
   "metadata": {},
   "outputs": [
    {
     "data": {
      "text/plain": [
       "0.3208666376565971"
      ]
     },
     "execution_count": 37,
     "metadata": {},
     "output_type": "execute_result"
    },
    {
     "data": {
      "image/png": "[encoded data removed]",
      "text/plain": [
       "<Figure size 432x288 with 1 Axes>"
      ]
     },
     "metadata": {
      "needs_background": "light"
     },
     "output_type": "display_data"
    }
   ],
   "source": [
    "sns.countplot(x='j_p', data=data2)\n",
    "sum(data2.j_p==1)/len(data2)"
   ]
  },
  {
   "cell_type": "code",
   "execution_count": 38,
   "metadata": {},
   "outputs": [
    {
     "data": {
      "text/plain": [
       "90.25196882945079"
      ]
     },
     "execution_count": 38,
     "metadata": {},
     "output_type": "execute_result"
    }
   ],
   "source": [
    "# 전처리 후 남은 데이터 percentage\n",
    "data2.shape[0]/data.shape[0]*100"
   ]
  }
 ],
 "metadata": {
  "kernelspec": {
   "display_name": "Python 3",
   "language": "python",
   "name": "python3"
  },
  "language_info": {
   "codemirror_mode": {
    "name": "ipython",
    "version": 3
   },
   "file_extension": ".py",
   "mimetype": "text/x-python",
   "name": "python",
   "nbconvert_exporter": "python",
   "pygments_lexer": "ipython3",
   "version": "3.8.8"
  }
 },
 "nbformat": 4,
 "nbformat_minor": 4
}
