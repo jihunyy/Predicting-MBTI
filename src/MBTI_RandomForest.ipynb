{
 "cells": [
  {
   "cell_type": "markdown",
   "id": "7cc3d26f",
   "metadata": {},
   "source": [
    "# TF-IDF를 활용한 랜덤포레스트 모델 구현  \n",
    "\n",
    "입력값에 대해 TF-IDF 값으로 벡터화 진행\n",
    "\n",
    "\n",
    "## 데이터 불러오기"
   ]
  },
  {
   "cell_type": "code",
   "execution_count": 1,
   "id": "dc2eaf1c",
   "metadata": {},
   "outputs": [
    {
     "data": {
      "text/html": [
       "<div>\n",
       "<style scoped>\n",
       "    .dataframe tbody tr th:only-of-type {\n",
       "        vertical-align: middle;\n",
       "    }\n",
       "\n",
       "    .dataframe tbody tr th {\n",
       "        vertical-align: top;\n",
       "    }\n",
       "\n",
       "    .dataframe thead th {\n",
       "        text-align: right;\n",
       "    }\n",
       "</style>\n",
       "<table border=\"1\" class=\"dataframe\">\n",
       "  <thead>\n",
       "    <tr style=\"text-align: right;\">\n",
       "      <th></th>\n",
       "      <th>Unnamed: 0</th>\n",
       "      <th>articleid</th>\n",
       "      <th>mbti</th>\n",
       "      <th>title</th>\n",
       "      <th>content</th>\n",
       "      <th>menu_id</th>\n",
       "      <th>mbti_label</th>\n",
       "      <th>e_i</th>\n",
       "      <th>n_s</th>\n",
       "      <th>f_t</th>\n",
       "      <th>j_p</th>\n",
       "    </tr>\n",
       "  </thead>\n",
       "  <tbody>\n",
       "    <tr>\n",
       "      <th>0</th>\n",
       "      <td>0</td>\n",
       "      <td>277264</td>\n",
       "      <td>estj</td>\n",
       "      <td>Estj istj 차이는 뭘까요?</td>\n",
       "      <td>저는 estj인데 istj 특징을 보면 별로 저랑 다르지않은것같아요 제 주변에 es...</td>\n",
       "      <td>11</td>\n",
       "      <td>6</td>\n",
       "      <td>1</td>\n",
       "      <td>0</td>\n",
       "      <td>0</td>\n",
       "      <td>1</td>\n",
       "    </tr>\n",
       "    <tr>\n",
       "      <th>1</th>\n",
       "      <td>1</td>\n",
       "      <td>277263</td>\n",
       "      <td>istj</td>\n",
       "      <td>블루스 추천</td>\n",
       "      <td>동영상 n n nGrover Washington Jr Ain t No S nshin...</td>\n",
       "      <td>11</td>\n",
       "      <td>14</td>\n",
       "      <td>0</td>\n",
       "      <td>0</td>\n",
       "      <td>0</td>\n",
       "      <td>1</td>\n",
       "    </tr>\n",
       "    <tr>\n",
       "      <th>2</th>\n",
       "      <td>2</td>\n",
       "      <td>277216</td>\n",
       "      <td>enfp</td>\n",
       "      <td>ENFP 여자 ESTJ 남자친구랑 오래갈 수 있을까요 ㅠㅠ</td>\n",
       "      <td>안녕하세요 ENFP 여자입니다 매번 짧고 금방 식는 연애만 해 왔는데지금 남자친구가...</td>\n",
       "      <td>11</td>\n",
       "      <td>1</td>\n",
       "      <td>1</td>\n",
       "      <td>1</td>\n",
       "      <td>1</td>\n",
       "      <td>0</td>\n",
       "    </tr>\n",
       "    <tr>\n",
       "      <th>3</th>\n",
       "      <td>3</td>\n",
       "      <td>276899</td>\n",
       "      <td>istj</td>\n",
       "      <td>생각에 확신이 없는 ISTJ</td>\n",
       "      <td>직장밴드에 이해하기 애매한 글이 올라왔어요 제 생각에는 찬성 반대로만 물으면 안 될...</td>\n",
       "      <td>11</td>\n",
       "      <td>14</td>\n",
       "      <td>0</td>\n",
       "      <td>0</td>\n",
       "      <td>0</td>\n",
       "      <td>1</td>\n",
       "    </tr>\n",
       "    <tr>\n",
       "      <th>4</th>\n",
       "      <td>4</td>\n",
       "      <td>276311</td>\n",
       "      <td>estj</td>\n",
       "      <td>원하는 연애스타일 있으신가요?</td>\n",
       "      <td>저는 개인적으로 알콩달콩도 좋지만 레드벨벳 싸이코 노래같은 그런연애 해보고 싶더라구...</td>\n",
       "      <td>11</td>\n",
       "      <td>6</td>\n",
       "      <td>1</td>\n",
       "      <td>0</td>\n",
       "      <td>0</td>\n",
       "      <td>1</td>\n",
       "    </tr>\n",
       "  </tbody>\n",
       "</table>\n",
       "</div>"
      ],
      "text/plain": [
       "   Unnamed: 0  articleid  mbti                             title  \\\n",
       "0           0     277264  estj                Estj istj 차이는 뭘까요?   \n",
       "1           1     277263  istj                            블루스 추천   \n",
       "2           2     277216  enfp  ENFP 여자 ESTJ 남자친구랑 오래갈 수 있을까요 ㅠㅠ   \n",
       "3           3     276899  istj                   생각에 확신이 없는 ISTJ   \n",
       "4           4     276311  estj                  원하는 연애스타일 있으신가요?   \n",
       "\n",
       "                                             content  menu_id  mbti_label  \\\n",
       "0  저는 estj인데 istj 특징을 보면 별로 저랑 다르지않은것같아요 제 주변에 es...       11           6   \n",
       "1  동영상 n n nGrover Washington Jr Ain t No S nshin...       11          14   \n",
       "2  안녕하세요 ENFP 여자입니다 매번 짧고 금방 식는 연애만 해 왔는데지금 남자친구가...       11           1   \n",
       "3  직장밴드에 이해하기 애매한 글이 올라왔어요 제 생각에는 찬성 반대로만 물으면 안 될...       11          14   \n",
       "4  저는 개인적으로 알콩달콩도 좋지만 레드벨벳 싸이코 노래같은 그런연애 해보고 싶더라구...       11           6   \n",
       "\n",
       "   e_i  n_s  f_t  j_p  \n",
       "0    1    0    0    1  \n",
       "1    0    0    0    1  \n",
       "2    1    1    1    0  \n",
       "3    0    0    0    1  \n",
       "4    1    0    0    1  "
      ]
     },
     "execution_count": 1,
     "metadata": {},
     "output_type": "execute_result"
    }
   ],
   "source": [
    "import pandas as pd\n",
    "\n",
    "DATA_IN_PATH = 'C:/Users/JS/Desktop/mbti_data/'\n",
    "TRAIN_CLEAN_DATA = 'preprocessing_final2.csv'\n",
    "\n",
    "train_data = pd.read_csv(DATA_IN_PATH + TRAIN_CLEAN_DATA)\n",
    "\n",
    "train_data.head()"
   ]
  },
  {
   "cell_type": "markdown",
   "id": "dbaa452a",
   "metadata": {},
   "source": [
    "## 데이터 전처리\n",
    "\n",
    "### 형태소 분석기"
   ]
  },
  {
   "cell_type": "code",
   "execution_count": 2,
   "id": "9b739571",
   "metadata": {},
   "outputs": [
    {
     "data": {
      "text/plain": [
       "0        저는 estj인데 istj 특징을 보면 별로 저랑 다르지않은것같아요 제 주변에 es...\n",
       "1        동영상 n n nGrover Washington Jr Ain t No S nshin...\n",
       "2        안녕하세요 ENFP 여자입니다 매번 짧고 금방 식는 연애만 해 왔는데지금 남자친구가...\n",
       "3        직장밴드에 이해하기 애매한 글이 올라왔어요 제 생각에는 찬성 반대로만 물으면 안 될...\n",
       "4        저는 개인적으로 알콩달콩도 좋지만 레드벨벳 싸이코 노래같은 그런연애 해보고 싶더라구...\n",
       "                               ...                        \n",
       "43556     요즘 제가 교회에서 하는 연애 결혼 예비학교 강의를 듣는데 자존감이 낮고 표현을 ...\n",
       "43557    사실 이건 제가 불건강 infp라서 그런 거 같기도 한데말 하나하나에 너무 예민하고...\n",
       "43558               면허따려고 하는데 겁도 나고 물론 케바케겠지만 안전운전 잘 되시나요 \n",
       "43559    걸어가면서 생각하다가 정신팔려서 나뭇가지에 걸림 혼자서 웃긴 생각하다가 웃음 밖에 ...\n",
       "43560                 그들이 사는 세계를 들여다볼테야나도 초대햐줘용 왜 내 주변엔 없 \n",
       "Name: content, Length: 43561, dtype: object"
      ]
     },
     "execution_count": 2,
     "metadata": {},
     "output_type": "execute_result"
    }
   ],
   "source": [
    "content_text = train_data['content']\n",
    "content_text"
   ]
  },
  {
   "cell_type": "code",
   "execution_count": 3,
   "id": "963d9f94",
   "metadata": {},
   "outputs": [],
   "source": [
    "from konlpy.tag import Okt\n",
    "import re\n",
    "\n",
    "def preprocessing(text, okt, remove_stopwords=False, stop_words=[]) :\n",
    "    # 1. 한글 및 공백 제외 문자 모두 제거\n",
    "    text_split = re.sub(\"[^가-힣ㄱ-ㅎㅏ-ㅣ\\\\s]\",\"\", text)\n",
    "    # 2. okt 객체를 사용해 형태소 단위로 나눈다\n",
    "    text_split = okt.morphs(text, stem=True)\n",
    "    # 3. 불용어 제거\n",
    "    if remove_stopwords :\n",
    "        text_split = [token for token in text_split if not token in stop_words]\n",
    "        \n",
    "    return text_split"
   ]
  },
  {
   "cell_type": "code",
   "execution_count": 4,
   "id": "59c5b8a9",
   "metadata": {},
   "outputs": [
    {
     "data": {
      "text/plain": [
       "[['저',\n",
       "  'estj',\n",
       "  '인데',\n",
       "  'istj',\n",
       "  '특징',\n",
       "  '보다',\n",
       "  '별로',\n",
       "  '저',\n",
       "  '랑',\n",
       "  '다르다',\n",
       "  '않다',\n",
       "  '같다',\n",
       "  '제',\n",
       "  '주변',\n",
       "  'estj',\n",
       "  'istj',\n",
       "  '늘다',\n",
       "  '명도',\n",
       "  '없다',\n",
       "  '비교',\n",
       "  '하다',\n",
       "  '없다',\n",
       "  '다른',\n",
       "  '분들',\n",
       "  '시기',\n",
       "  '에는',\n",
       "  '둘',\n",
       "  '차이점',\n",
       "  '보이다'],\n",
       " ['동영상',\n",
       "  'n',\n",
       "  'n',\n",
       "  'nGrover',\n",
       "  'Washington',\n",
       "  'Jr',\n",
       "  'Ain',\n",
       "  't',\n",
       "  'No',\n",
       "  'S',\n",
       "  'nshine',\n",
       "  'n',\n",
       "  'nyo',\n",
       "  't',\n",
       "  'e',\n",
       "  'n',\n",
       "  'n',\n",
       "  'n',\n",
       "  'nBill',\n",
       "  'withers',\n",
       "  '음악',\n",
       "  '으로',\n",
       "  '알려지다',\n",
       "  '있다',\n",
       "  '이건',\n",
       "  'Grover',\n",
       "  'Washington',\n",
       "  'Jr',\n",
       "  '연',\n",
       "  '곡',\n",
       "  '으로',\n",
       "  '기다',\n",
       "  '버젼',\n",
       "  '이다'],\n",
       " ['안녕하다',\n",
       "  'ENFP',\n",
       "  '여자',\n",
       "  '이다',\n",
       "  '매번',\n",
       "  '짧다',\n",
       "  '금방',\n",
       "  '식다',\n",
       "  '연애',\n",
       "  '만',\n",
       "  '해',\n",
       "  '오다',\n",
       "  '지금',\n",
       "  '남자친구',\n",
       "  '진짜',\n",
       "  '너무',\n",
       "  '좋다',\n",
       "  '얼굴',\n",
       "  '도',\n",
       "  '잘생기다',\n",
       "  '다정하다',\n",
       "  '가끔',\n",
       "  '씩',\n",
       "  '그',\n",
       "  '성격',\n",
       "  '적',\n",
       "  '인',\n",
       "  '차이',\n",
       "  '느끼다',\n",
       "  '직',\n",
       "  '까지',\n",
       "  '막',\n",
       "  '크다',\n",
       "  '충돌',\n",
       "  '없다',\n",
       "  '그리다',\n",
       "  '제',\n",
       "  '엄청',\n",
       "  '집착',\n",
       "  '하다',\n",
       "  '찡찡거리다',\n",
       "  '스타일',\n",
       "  '인데',\n",
       "  'estj',\n",
       "  '분',\n",
       "  '이렇다',\n",
       "  '귀찮다',\n",
       "  '남자친구',\n",
       "  '좀',\n",
       "  '버겁다',\n",
       "  '같다',\n",
       "  '노력',\n",
       "  '하다',\n",
       "  '고치다',\n",
       "  '있다',\n",
       "  '자다',\n",
       "  '안되다',\n",
       "  '저희',\n",
       "  '자다',\n",
       "  '만',\n",
       "  '날수',\n",
       "  '있다'],\n",
       " ['직장',\n",
       "  '밴드',\n",
       "  '이해',\n",
       "  '하다',\n",
       "  '애매하다',\n",
       "  '글',\n",
       "  '올라오다',\n",
       "  '제',\n",
       "  '생각',\n",
       "  '에는',\n",
       "  '찬성',\n",
       "  '반대',\n",
       "  '로만',\n",
       "  '물다',\n",
       "  '안',\n",
       "  '되다',\n",
       "  '같다',\n",
       "  '다른',\n",
       "  '사람',\n",
       "  '찬성',\n",
       "  '반대',\n",
       "  '댓글',\n",
       "  '달다',\n",
       "  '저',\n",
       "  '찬성',\n",
       "  '하나',\n",
       "  '나',\n",
       "  '신청',\n",
       "  '안',\n",
       "  '하다',\n",
       "  '게',\n",
       "  '반대',\n",
       "  '아니다',\n",
       "  '뭔가',\n",
       "  '이치',\n",
       "  '맞다',\n",
       "  '않다',\n",
       "  '같다',\n",
       "  '다른',\n",
       "  '람',\n",
       "  '다',\n",
       "  '찬성',\n",
       "  '반대',\n",
       "  '하다',\n",
       "  '밑',\n",
       "  '제',\n",
       "  '줄줄이',\n",
       "  '쓰기',\n",
       "  '부담',\n",
       "  '되다',\n",
       "  '하다',\n",
       "  '제',\n",
       "  '생각',\n",
       "  '맞다',\n",
       "  '같다',\n",
       "  '진짜',\n",
       "  '맞다',\n",
       "  '확인',\n",
       "  '받다']]"
      ]
     },
     "execution_count": 4,
     "metadata": {},
     "output_type": "execute_result"
    }
   ],
   "source": [
    "stop_words = ['은', '는', '이', '가', '하', '아', '것', '들', '의', '있', '되', '수', '보', '주', '등', '한', '.', '..', 'ㅠ', 'ㅠㅠ', '을', '를', '에',' 하다']\n",
    "okt=Okt()\n",
    "clean_content = []\n",
    "\n",
    "for content in train_data['content']:\n",
    "    #비어있는 데이터에서 멈추지 않도록 문자열인 경우에만 진행\n",
    "    if type(content) == str:\n",
    "        clean_content.append(preprocessing(content, okt, remove_stopwords=True, stop_words=stop_words))\n",
    "    else :\n",
    "        clean_content.append([]) #string이 아니면 비어있는 값 추가\n",
    "        \n",
    "clean_content[:4]"
   ]
  },
  {
   "cell_type": "code",
   "execution_count": 5,
   "id": "42a81af5",
   "metadata": {},
   "outputs": [
    {
     "data": {
      "text/plain": [
       "['저 estj 인데 istj 특징 보다 별로 저 랑 다르다 않다 같다 제 주변 estj istj 늘다 명도 없다 비교 하다 없다 다른 분들 시기 에는 둘 차이점 보이다',\n",
       " '동영상 n n nGrover Washington Jr Ain t No S nshine n nyo t e n n n nBill withers 음악 으로 알려지다 있다 이건 Grover Washington Jr 연 곡 으로 기다 버젼 이다']"
      ]
     },
     "execution_count": 5,
     "metadata": {},
     "output_type": "execute_result"
    }
   ],
   "source": [
    "content_final=[]\n",
    "\n",
    "for text in clean_content :\n",
    "    content_mass=' '.join(text)\n",
    "    content_final.append(content_mass)\n",
    "\n",
    "content_final[:2]"
   ]
  },
  {
   "cell_type": "code",
   "execution_count": 6,
   "id": "abd4b869",
   "metadata": {},
   "outputs": [
    {
     "data": {
      "text/plain": [
       "['저 estj 인데 istj 특징 보다 별로 저 랑 다르다 않다 같다 제 주변 estj istj 늘다 명도 없다 비교 하다 없다 다른 분들 시기 에는 둘 차이점 보이다',\n",
       " '동영상 n n nGrover Washington Jr Ain t No S nshine n nyo t e n n n nBill withers 음악 으로 알려지다 있다 이건 Grover Washington Jr 연 곡 으로 기다 버젼 이다']"
      ]
     },
     "execution_count": 6,
     "metadata": {},
     "output_type": "execute_result"
    }
   ],
   "source": [
    "#내용과 라벨값 따로 리스트 지정\n",
    "content = list(content_final)\n",
    "label_e_i = list(train_data['e_i'])\n",
    "label_n_s = list(train_data['n_s'])\n",
    "label_f_t = list(train_data['f_t'])\n",
    "label_j_p = list(train_data['j_p'])\n",
    "\n",
    "content[:2]"
   ]
  },
  {
   "cell_type": "markdown",
   "id": "cfc84cd4",
   "metadata": {},
   "source": [
    "## TF-IDF 벡터화"
   ]
  },
  {
   "cell_type": "code",
   "execution_count": 7,
   "id": "6dd214b1",
   "metadata": {},
   "outputs": [],
   "source": [
    "from sklearn.feature_extraction.text import TfidfVectorizer\n",
    "\n",
    "#tf-idf 벡터화\n",
    "#min_df : 설정한 값보다 특정 토큰의 df값이 더 적으면 벡터화 과정에서 제거\n",
    "#analyzer : 분석하기 위한 기준 단위(word or char)\n",
    "#sublinear_tf : 문서의 단어 빈도수에 대한 스무딩 여부 설정\n",
    "#ngram_range : 빈도의 기본 단위를 어느 범위의 n-gram으로 설정할 것인가\n",
    "#max_features : 각 벡터의 최대 길이, 특징의 길이 설정\n",
    "vectorizer = TfidfVectorizer(min_df=0.0, analyzer=\"char\", sublinear_tf=True, ngram_range=(1,3), max_features=5000)\n",
    "\n",
    "vectorized_data = vectorizer.fit_transform(content)"
   ]
  },
  {
   "cell_type": "markdown",
   "id": "edc039fe",
   "metadata": {},
   "source": [
    "## 학습과 검증 데이터셋 분리"
   ]
  },
  {
   "cell_type": "code",
   "execution_count": 8,
   "id": "e0f972fb",
   "metadata": {},
   "outputs": [],
   "source": [
    "from sklearn.model_selection import train_test_split\n",
    "import numpy as np\n",
    "\n",
    "RANDOM_SEED = 42\n",
    "TEST_SPLIT = 0.2\n",
    "\n",
    "label_1 = np.array(label_e_i)\n",
    "label_2 = np.array(label_n_s)\n",
    "label_3 = np.array(label_f_t)\n",
    "label_4 = np.array(label_j_p)\n",
    "\n",
    "train_input_1, eval_input_1, train_label_1, eval_label_1 = train_test_split(vectorized_data, label_1, test_size=TEST_SPLIT, random_state=RANDOM_SEED)\n",
    "train_input_2, eval_input_2, train_label_2, eval_label_2 = train_test_split(vectorized_data, label_2, test_size=TEST_SPLIT, random_state=RANDOM_SEED)\n",
    "train_input_3, eval_input_3, train_label_3, eval_label_3 = train_test_split(vectorized_data, label_3, test_size=TEST_SPLIT, random_state=RANDOM_SEED)\n",
    "train_input_4, eval_input_4, train_label_4, eval_label_4 = train_test_split(vectorized_data, label_4, test_size=TEST_SPLIT, random_state=RANDOM_SEED)"
   ]
  },
  {
   "cell_type": "markdown",
   "id": "0402be22",
   "metadata": {},
   "source": [
    "## 모델 선언 및 학습\n",
    "\n",
    "### Random Forest 이용\n",
    "사이킷런 라이브러리의 RandomForestClassifier 객체를 사용해 구현한다."
   ]
  },
  {
   "cell_type": "code",
   "execution_count": 9,
   "id": "14f8914d",
   "metadata": {},
   "outputs": [
    {
     "data": {
      "text/plain": [
       "RandomForestClassifier(n_estimators=1000)"
      ]
     },
     "execution_count": 9,
     "metadata": {},
     "output_type": "execute_result"
    }
   ],
   "source": [
    "from sklearn.ensemble import RandomForestClassifier\n",
    "\n",
    "#랜덤포레스트 분류기에 100개의 의사결정 트리를 사용한다\n",
    "forest_1 = RandomForestClassifier(n_estimators=1000)\n",
    "forest_2 = RandomForestClassifier(n_estimators=1000)\n",
    "forest_3 = RandomForestClassifier(n_estimators=1000)\n",
    "forest_4 = RandomForestClassifier(n_estimators=1000)\n",
    "\n",
    "#학습 데이터셋으로 label_1에 대한 학습 시작\n",
    "forest_1.fit(train_input_1, train_label_1)\n",
    "forest_2.fit(train_input_2, train_label_2)\n",
    "forest_3.fit(train_input_3, train_label_3)\n",
    "forest_4.fit(train_input_4, train_label_4)"
   ]
  },
  {
   "cell_type": "markdown",
   "id": "a1e05a21",
   "metadata": {},
   "source": [
    "## 성능 평가"
   ]
  },
  {
   "cell_type": "code",
   "execution_count": 10,
   "id": "38f1a9bc",
   "metadata": {},
   "outputs": [],
   "source": [
    "from sklearn.metrics import accuracy_score, precision_score, recall_score, confusion_matrix, f1_score, roc_auc_score\n",
    "\n",
    "def get_clf_eval(y_test, pred=None, pred_proba=None) :\n",
    "    confusion = confusion_matrix(y_test, pred)\n",
    "    accuracy = accuracy_score(y_test, pred)\n",
    "    precision = precision_score(y_test, pred)\n",
    "    recall = recall_score(y_test, pred)\n",
    "    f1 = f1_score(y_test, pred)\n",
    "    #roc_auc = roc_auc_score(y_test, pred_proba)\n",
    "    print('오차 행렬')\n",
    "    print(confusion)\n",
    "    print('정확도: {0:.4f}, 정밀도: {1:.4f}, 재현율: {2:.4f}, F1: {3:.4f}'.format(accuracy, precision, recall, f1))"
   ]
  },
  {
   "cell_type": "markdown",
   "id": "58d94c48",
   "metadata": {},
   "source": [
    "### E or I label"
   ]
  },
  {
   "cell_type": "code",
   "execution_count": 11,
   "id": "0d9c82ee",
   "metadata": {},
   "outputs": [
    {
     "name": "stdout",
     "output_type": "stream",
     "text": [
      "오차 행렬\n",
      "[[5233  403]\n",
      " [2341  736]]\n",
      "정확도: 0.6851, 정밀도: 0.6462, 재현율: 0.2392, F1: 0.3491\n"
     ]
    }
   ],
   "source": [
    "pred1=forest_1.predict(eval_input_1)\n",
    "get_clf_eval(eval_label_1, pred1)"
   ]
  },
  {
   "cell_type": "markdown",
   "id": "7d5b487b",
   "metadata": {},
   "source": [
    "### N or S label"
   ]
  },
  {
   "cell_type": "code",
   "execution_count": 12,
   "id": "e00c357a",
   "metadata": {},
   "outputs": [
    {
     "name": "stdout",
     "output_type": "stream",
     "text": [
      "오차 행렬\n",
      "[[ 408 1718]\n",
      " [ 219 6368]]\n",
      "정확도: 0.7777, 정밀도: 0.7875, 재현율: 0.9668, F1: 0.8680\n"
     ]
    }
   ],
   "source": [
    "pred2=forest_2.predict(eval_input_2)\n",
    "get_clf_eval(eval_label_2, pred2)"
   ]
  },
  {
   "cell_type": "markdown",
   "id": "1e41ba7c",
   "metadata": {},
   "source": [
    "### F or T label"
   ]
  },
  {
   "cell_type": "code",
   "execution_count": 13,
   "id": "25c7601f",
   "metadata": {},
   "outputs": [
    {
     "name": "stdout",
     "output_type": "stream",
     "text": [
      "오차 행렬\n",
      "[[2019 2037]\n",
      " [ 940 3717]]\n",
      "정확도: 0.6583, 정밀도: 0.6460, 재현율: 0.7982, F1: 0.7141\n"
     ]
    }
   ],
   "source": [
    "pred3=forest_3.predict(eval_input_3)\n",
    "get_clf_eval(eval_label_3, pred3)"
   ]
  },
  {
   "cell_type": "markdown",
   "id": "cffc85e7",
   "metadata": {},
   "source": [
    "### J or P label"
   ]
  },
  {
   "cell_type": "code",
   "execution_count": 14,
   "id": "cb99dcff",
   "metadata": {},
   "outputs": [
    {
     "name": "stdout",
     "output_type": "stream",
     "text": [
      "오차 행렬\n",
      "[[5509  425]\n",
      " [1894  885]]\n",
      "정확도: 0.7338, 정밀도: 0.6756, 재현율: 0.3185, F1: 0.4329\n"
     ]
    }
   ],
   "source": [
    "pred4=forest_4.predict(eval_input_4)\n",
    "get_clf_eval(eval_label_4, pred4)"
   ]
  },
  {
   "cell_type": "code",
   "execution_count": null,
   "id": "5579b9ca",
   "metadata": {},
   "outputs": [],
   "source": []
  }
 ],
 "metadata": {
  "kernelspec": {
   "display_name": "Python 3",
   "language": "python",
   "name": "python3"
  },
  "language_info": {
   "codemirror_mode": {
    "name": "ipython",
    "version": 3
   },
   "file_extension": ".py",
   "mimetype": "text/x-python",
   "name": "python",
   "nbconvert_exporter": "python",
   "pygments_lexer": "ipython3",
   "version": "3.8.8"
  }
 },
 "nbformat": 4,
 "nbformat_minor": 5
}
