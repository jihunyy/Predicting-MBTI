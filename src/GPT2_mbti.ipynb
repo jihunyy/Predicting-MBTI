{
 "cells": [
  {
   "cell_type": "code",
   "execution_count": 1,
   "metadata": {},
   "outputs": [],
   "source": [
    "\n",
    "import os\n",
    "import tensorflow as tf\n",
    "from transformers import TFGPT2Model\n",
    "\n",
    "from tensorflow.keras.preprocessing.sequence import pad_sequences\n",
    "from tensorflow.keras.callbacks import EarlyStopping, ModelCheckpoint\n",
    "\n",
    "import gluonnlp as nlp\n",
    "from gluonnlp.data import SentencepieceTokenizer\n",
    "\n",
    "import pandas as pd\n",
    "import matplotlib.pyplot as plt\n",
    "\n",
    "import numpy as np\n",
    "import re"
   ]
  },
  {
   "cell_type": "code",
   "execution_count": 2,
   "metadata": {},
   "outputs": [],
   "source": [
    "# execute if gpt_ckpt is not exist\n",
    "# import wget\n",
    "# import zipfile\n",
    "\n",
    "# wget.download('https://github.com/NLP-kr/tensorflow-ml-nlp-tf2/releases/download/v1.0/gpt_ckpt.zip')\n",
    "\n",
    "# with zipfile.ZipFile('gpt_ckpt.zip') as z:\n",
    "#     z.extractall()"
   ]
  },
  {
   "cell_type": "code",
   "execution_count": 3,
   "metadata": {},
   "outputs": [],
   "source": [
    "\n",
    "# 시각화\n",
    "\n",
    "def plot_graphs(history, string):\n",
    "    plt.plot(history.history[string])\n",
    "    plt.plot(history.history['val_'+string], '')\n",
    "    plt.xlabel(\"Epochs\")\n",
    "    plt.ylabel(string)\n",
    "    plt.legend([string, 'val_'+string])\n",
    "    plt.show()"
   ]
  },
  {
   "cell_type": "code",
   "execution_count": 4,
   "metadata": {},
   "outputs": [],
   "source": [
    "\n",
    "SEED_NUM = 1234\n",
    "tf.random.set_seed(SEED_NUM)\n",
    "np.random.seed(SEED_NUM)"
   ]
  },
  {
   "cell_type": "code",
   "execution_count": 5,
   "metadata": {},
   "outputs": [],
   "source": [
    "TOKENIZER_PATH = './gpt_ckpt/gpt2_kor_tokenizer.spiece'\n",
    "\n",
    "tokenizer = SentencepieceTokenizer(TOKENIZER_PATH)\n",
    "vocab = nlp.vocab.BERTVocab.from_sentencepiece(TOKENIZER_PATH,\n",
    "                                               mask_token=None,\n",
    "                                               sep_token='<unused0>',\n",
    "                                               cls_token=None,\n",
    "                                               unknown_token='<unk>',\n",
    "                                               padding_token='<pad>',\n",
    "                                               bos_token='<s>',\n",
    "                                               eos_token='</s>')"
   ]
  },
  {
   "cell_type": "code",
   "execution_count": 6,
   "metadata": {},
   "outputs": [],
   "source": [
    "BATCH_SIZE = 16\n",
    "NUM_EPOCHS = 10\n",
    "VALID_SPLIT = 0.2\n",
    "SENT_MAX_LEN = 128\n",
    "CLASSIFIER_TYPE = \"j_p\"\n",
    "#각 mbti type에 따라 변화 시킬것 e_i, n_s, f_t, j_p로 바꾸어주면 됌\n",
    "\n",
    "DATA_IN_PATH = './mbti_data_in'\n",
    "DATA_OUT_PATH = \"./mbti_data_out\""
   ]
  },
  {
   "cell_type": "code",
   "execution_count": 7,
   "metadata": {},
   "outputs": [
    {
     "name": "stdout",
     "output_type": "stream",
     "text": [
      "Total # dataset: 27918\n"
     ]
    }
   ],
   "source": [
    "# 데이터 전처리 준비\n",
    "\n",
    "DATA_PATH = os.path.join(DATA_IN_PATH ,f\"{CLASSIFIER_TYPE}_data.csv\")\n",
    "\n",
    "data = pd.read_csv(DATA_PATH, header = 0, delimiter = ',')\n",
    "data = data.dropna()\n",
    "\n",
    "#print(data)\n",
    "print(\"Total # dataset: {}\".format(len(data)))"
   ]
  },
  {
   "cell_type": "code",
   "execution_count": 8,
   "metadata": {},
   "outputs": [
    {
     "data": {
      "text/html": [
       "<div>\n",
       "<style scoped>\n",
       "    .dataframe tbody tr th:only-of-type {\n",
       "        vertical-align: middle;\n",
       "    }\n",
       "\n",
       "    .dataframe tbody tr th {\n",
       "        vertical-align: top;\n",
       "    }\n",
       "\n",
       "    .dataframe thead th {\n",
       "        text-align: right;\n",
       "    }\n",
       "</style>\n",
       "<table border=\"1\" class=\"dataframe\">\n",
       "  <thead>\n",
       "    <tr style=\"text-align: right;\">\n",
       "      <th></th>\n",
       "      <th>Unnamed: 0</th>\n",
       "      <th>articleid</th>\n",
       "      <th>mbti</th>\n",
       "      <th>title</th>\n",
       "      <th>content</th>\n",
       "      <th>menu_id</th>\n",
       "      <th>mbti_label</th>\n",
       "      <th>e_i</th>\n",
       "      <th>n_s</th>\n",
       "      <th>f_t</th>\n",
       "      <th>j_p</th>\n",
       "    </tr>\n",
       "  </thead>\n",
       "  <tbody>\n",
       "    <tr>\n",
       "      <th>0</th>\n",
       "      <td>4393</td>\n",
       "      <td>509726</td>\n",
       "      <td>enfp</td>\n",
       "      <td>엔티제 진짜 노빠꾸네요ㅎㅎ</td>\n",
       "      <td>당황스러울 정도입니다 쉬는 날은 당연히 제가 놀아줄거라는 자신감두요어떻게 하다보니 ...</td>\n",
       "      <td>12</td>\n",
       "      <td>1</td>\n",
       "      <td>1</td>\n",
       "      <td>1</td>\n",
       "      <td>1</td>\n",
       "      <td>0</td>\n",
       "    </tr>\n",
       "    <tr>\n",
       "      <th>1</th>\n",
       "      <td>20380</td>\n",
       "      <td>425780</td>\n",
       "      <td>enfj</td>\n",
       "      <td>다들 사람 상대로 답답해 죽겠다고 느끼시나요?</td>\n",
       "      <td>전 진짜 없는거 같아요 돌아보니 다른 사람을 보고 측은하거나 왜저러지라고는 생각해도...</td>\n",
       "      <td>14</td>\n",
       "      <td>0</td>\n",
       "      <td>1</td>\n",
       "      <td>1</td>\n",
       "      <td>1</td>\n",
       "      <td>1</td>\n",
       "    </tr>\n",
       "    <tr>\n",
       "      <th>2</th>\n",
       "      <td>3927</td>\n",
       "      <td>351011</td>\n",
       "      <td>infp</td>\n",
       "      <td>오늘 인티제에게 고백을 하게 됐는데요</td>\n",
       "      <td>결과만 말씀드리자면 친구 관계로 남기로 했습니다 물론 잠깐 아쉬운 마음도 들었지만 ...</td>\n",
       "      <td>12</td>\n",
       "      <td>9</td>\n",
       "      <td>0</td>\n",
       "      <td>1</td>\n",
       "      <td>1</td>\n",
       "      <td>0</td>\n",
       "    </tr>\n",
       "    <tr>\n",
       "      <th>3</th>\n",
       "      <td>36114</td>\n",
       "      <td>172543</td>\n",
       "      <td>enfp</td>\n",
       "      <td>infp 4번분이랑 잘 안맞네요</td>\n",
       "      <td>저는 enfp 고 회사동료였던 그분은 infp4에요 성격이 잘 안맞기로 최고봉인것 ...</td>\n",
       "      <td>18</td>\n",
       "      <td>1</td>\n",
       "      <td>1</td>\n",
       "      <td>1</td>\n",
       "      <td>1</td>\n",
       "      <td>0</td>\n",
       "    </tr>\n",
       "    <tr>\n",
       "      <th>4</th>\n",
       "      <td>22616</td>\n",
       "      <td>93279</td>\n",
       "      <td>enfj</td>\n",
       "      <td>카메라를 샀습니다</td>\n",
       "      <td>사실은 이리저리 취미를 찾다가 말도 안되게 여행자금으로 가지고 있던 돈을 그만 카메...</td>\n",
       "      <td>14</td>\n",
       "      <td>0</td>\n",
       "      <td>1</td>\n",
       "      <td>1</td>\n",
       "      <td>1</td>\n",
       "      <td>1</td>\n",
       "    </tr>\n",
       "  </tbody>\n",
       "</table>\n",
       "</div>"
      ],
      "text/plain": [
       "   Unnamed: 0  articleid  mbti                      title  \\\n",
       "0        4393     509726  enfp             엔티제 진짜 노빠꾸네요ㅎㅎ   \n",
       "1       20380     425780  enfj  다들 사람 상대로 답답해 죽겠다고 느끼시나요?   \n",
       "2        3927     351011  infp       오늘 인티제에게 고백을 하게 됐는데요   \n",
       "3       36114     172543  enfp          infp 4번분이랑 잘 안맞네요   \n",
       "4       22616      93279  enfj                  카메라를 샀습니다   \n",
       "\n",
       "                                             content  menu_id  mbti_label  \\\n",
       "0  당황스러울 정도입니다 쉬는 날은 당연히 제가 놀아줄거라는 자신감두요어떻게 하다보니 ...       12           1   \n",
       "1  전 진짜 없는거 같아요 돌아보니 다른 사람을 보고 측은하거나 왜저러지라고는 생각해도...       14           0   \n",
       "2  결과만 말씀드리자면 친구 관계로 남기로 했습니다 물론 잠깐 아쉬운 마음도 들었지만 ...       12           9   \n",
       "3  저는 enfp 고 회사동료였던 그분은 infp4에요 성격이 잘 안맞기로 최고봉인것 ...       18           1   \n",
       "4  사실은 이리저리 취미를 찾다가 말도 안되게 여행자금으로 가지고 있던 돈을 그만 카메...       14           0   \n",
       "\n",
       "   e_i  n_s  f_t  j_p  \n",
       "0    1    1    1    0  \n",
       "1    1    1    1    1  \n",
       "2    0    1    1    0  \n",
       "3    1    1    1    0  \n",
       "4    1    1    1    1  "
      ]
     },
     "execution_count": 8,
     "metadata": {},
     "output_type": "execute_result"
    }
   ],
   "source": [
    "data.head()"
   ]
  },
  {
   "cell_type": "code",
   "execution_count": 9,
   "metadata": {},
   "outputs": [],
   "source": [
    "# 텍스트 전처리\n",
    "\n",
    "def clean_text(sent):\n",
    "    sent_clean = re.sub(\"[^가-힣ㄱ-ㅎㅏ-ㅣ\\\\s]\", \"\", sent)\n",
    "    return sent_clean"
   ]
  },
  {
   "cell_type": "code",
   "execution_count": 10,
   "metadata": {},
   "outputs": [],
   "source": [
    "from sklearn.model_selection import train_test_split\n",
    "\n",
    "train_data, test_data = train_test_split(data, test_size=0.2, random_state=1234)\n",
    "\n",
    "#밑에 바꿔볼것"
   ]
  },
  {
   "cell_type": "code",
   "execution_count": 11,
   "metadata": {},
   "outputs": [
    {
     "data": {
      "text/html": [
       "<div>\n",
       "<style scoped>\n",
       "    .dataframe tbody tr th:only-of-type {\n",
       "        vertical-align: middle;\n",
       "    }\n",
       "\n",
       "    .dataframe tbody tr th {\n",
       "        vertical-align: top;\n",
       "    }\n",
       "\n",
       "    .dataframe thead th {\n",
       "        text-align: right;\n",
       "    }\n",
       "</style>\n",
       "<table border=\"1\" class=\"dataframe\">\n",
       "  <thead>\n",
       "    <tr style=\"text-align: right;\">\n",
       "      <th></th>\n",
       "      <th>Unnamed: 0</th>\n",
       "      <th>articleid</th>\n",
       "      <th>mbti</th>\n",
       "      <th>title</th>\n",
       "      <th>content</th>\n",
       "      <th>menu_id</th>\n",
       "      <th>mbti_label</th>\n",
       "      <th>e_i</th>\n",
       "      <th>n_s</th>\n",
       "      <th>f_t</th>\n",
       "      <th>j_p</th>\n",
       "    </tr>\n",
       "  </thead>\n",
       "  <tbody>\n",
       "    <tr>\n",
       "      <th>11142</th>\n",
       "      <td>41825</td>\n",
       "      <td>281699</td>\n",
       "      <td>enfp</td>\n",
       "      <td>동네친구 참 무섭네요ㅋㅋㅋㅋㅋㅋ</td>\n",
       "      <td>초중고 다녔던 지역에서 다른지역으로 3년정도 살았거든요그래서 다시 이쪽 지역으로 왔...</td>\n",
       "      <td>18</td>\n",
       "      <td>1</td>\n",
       "      <td>1</td>\n",
       "      <td>1</td>\n",
       "      <td>1</td>\n",
       "      <td>0</td>\n",
       "    </tr>\n",
       "    <tr>\n",
       "      <th>27004</th>\n",
       "      <td>9862</td>\n",
       "      <td>484473</td>\n",
       "      <td>entp</td>\n",
       "      <td>도대체 INFJ는 왜이리 ENTP을 좋아할까요? (엔팁 싫어하는 인프제도 찾아요)</td>\n",
       "      <td>제 친구가 저를 유독 좋아하는데요 얘 왜이래 싶을정도로요 알고보니 친구는 infj였...</td>\n",
       "      <td>101</td>\n",
       "      <td>3</td>\n",
       "      <td>1</td>\n",
       "      <td>1</td>\n",
       "      <td>0</td>\n",
       "      <td>0</td>\n",
       "    </tr>\n",
       "    <tr>\n",
       "      <th>13019</th>\n",
       "      <td>22605</td>\n",
       "      <td>95167</td>\n",
       "      <td>enfj</td>\n",
       "      <td>우와...</td>\n",
       "      <td>전 솔직히 MBTI라는 걸 그냥 몇가지 정보만 아는 정도 였거든요 그런데 이번에 학...</td>\n",
       "      <td>14</td>\n",
       "      <td>0</td>\n",
       "      <td>1</td>\n",
       "      <td>1</td>\n",
       "      <td>1</td>\n",
       "      <td>1</td>\n",
       "    </tr>\n",
       "    <tr>\n",
       "      <th>4273</th>\n",
       "      <td>41728</td>\n",
       "      <td>288074</td>\n",
       "      <td>infp</td>\n",
       "      <td>(여우)&lt;-바보</td>\n",
       "      <td>내일 섭센 갈 정도로 사고친건 아닌데 그냥 업글 겸 공초 부탁드리러 가려고요 역시 ...</td>\n",
       "      <td>18</td>\n",
       "      <td>9</td>\n",
       "      <td>0</td>\n",
       "      <td>1</td>\n",
       "      <td>1</td>\n",
       "      <td>0</td>\n",
       "    </tr>\n",
       "    <tr>\n",
       "      <th>292</th>\n",
       "      <td>7926</td>\n",
       "      <td>357941</td>\n",
       "      <td>infp</td>\n",
       "      <td>주인공에 엄청 몰입하시는 분들 있나요?</td>\n",
       "      <td>드라마 영화나 특히 소설 읽을 때 내가 주인공이 되고 싶고 괜히 대사 한 번 연기하...</td>\n",
       "      <td>101</td>\n",
       "      <td>9</td>\n",
       "      <td>0</td>\n",
       "      <td>1</td>\n",
       "      <td>1</td>\n",
       "      <td>0</td>\n",
       "    </tr>\n",
       "  </tbody>\n",
       "</table>\n",
       "</div>"
      ],
      "text/plain": [
       "       Unnamed: 0  articleid  mbti  \\\n",
       "11142       41825     281699  enfp   \n",
       "27004        9862     484473  entp   \n",
       "13019       22605      95167  enfj   \n",
       "4273        41728     288074  infp   \n",
       "292          7926     357941  infp   \n",
       "\n",
       "                                               title  \\\n",
       "11142                              동네친구 참 무섭네요ㅋㅋㅋㅋㅋㅋ   \n",
       "27004  도대체 INFJ는 왜이리 ENTP을 좋아할까요? (엔팁 싫어하는 인프제도 찾아요)   \n",
       "13019                                          우와...   \n",
       "4273                                        (여우)<-바보   \n",
       "292                            주인공에 엄청 몰입하시는 분들 있나요?   \n",
       "\n",
       "                                                 content  menu_id  mbti_label  \\\n",
       "11142  초중고 다녔던 지역에서 다른지역으로 3년정도 살았거든요그래서 다시 이쪽 지역으로 왔...       18           1   \n",
       "27004  제 친구가 저를 유독 좋아하는데요 얘 왜이래 싶을정도로요 알고보니 친구는 infj였...      101           3   \n",
       "13019  전 솔직히 MBTI라는 걸 그냥 몇가지 정보만 아는 정도 였거든요 그런데 이번에 학...       14           0   \n",
       "4273   내일 섭센 갈 정도로 사고친건 아닌데 그냥 업글 겸 공초 부탁드리러 가려고요 역시 ...       18           9   \n",
       "292    드라마 영화나 특히 소설 읽을 때 내가 주인공이 되고 싶고 괜히 대사 한 번 연기하...      101           9   \n",
       "\n",
       "       e_i  n_s  f_t  j_p  \n",
       "11142    1    1    1    0  \n",
       "27004    1    1    0    0  \n",
       "13019    1    1    1    1  \n",
       "4273     0    1    1    0  \n",
       "292      0    1    1    0  "
      ]
     },
     "execution_count": 11,
     "metadata": {},
     "output_type": "execute_result"
    }
   ],
   "source": [
    "train_data.head()\n",
    "test_data.head()"
   ]
  },
  {
   "cell_type": "code",
   "execution_count": 12,
   "metadata": {},
   "outputs": [],
   "source": [
    "\n",
    "# train_data = train_data[:50] # for test\n",
    "\n",
    "train_data_sents = []\n",
    "train_data_labels = []\n",
    "\n",
    "for train_sent, train_label in train_data[['content',CLASSIFIER_TYPE ]].values:\n",
    "    train_tokenized_text = vocab[tokenizer(clean_text(train_sent))]\n",
    "\n",
    "    tokens = [vocab[vocab.bos_token]]  \n",
    "    tokens += pad_sequences([train_tokenized_text], \n",
    "                            SENT_MAX_LEN, \n",
    "                            value=vocab[vocab.padding_token], \n",
    "                            padding='post').tolist()[0] \n",
    "    tokens += [vocab[vocab.eos_token]]\n",
    "\n",
    "    train_data_sents.append(tokens)\n",
    "    train_data_labels.append(train_label)\n",
    "\n",
    "train_data_sents = np.array(train_data_sents, dtype=np.int64)\n",
    "train_data_labels = np.array(train_data_labels, dtype=np.int64)"
   ]
  },
  {
   "cell_type": "code",
   "execution_count": 13,
   "metadata": {},
   "outputs": [],
   "source": [
    "class TFGPT2Classifier(tf.keras.Model):\n",
    "    def __init__(self, dir_path, num_class):\n",
    "        super(TFGPT2Classifier, self).__init__()\n",
    "        \n",
    "        self.gpt2 = TFGPT2Model.from_pretrained(dir_path)\n",
    "        self.num_class = num_class\n",
    "        \n",
    "        self.dropout = tf.keras.layers.Dropout(self.gpt2.config.summary_first_dropout)\n",
    "        self.classifier = tf.keras.layers.Dense(self.num_class, \n",
    "                                                kernel_initializer=tf.keras.initializers.TruncatedNormal(stddev=self.gpt2.config.initializer_range), \n",
    "                                                name=\"classifier\")\n",
    "        \n",
    "    def call(self, inputs):\n",
    "        outputs = self.gpt2(inputs)\n",
    "        pooled_output = outputs[0][:, -1]\n",
    "\n",
    "        pooled_output = self.dropout(pooled_output)\n",
    "        logits = self.classifier(pooled_output)\n",
    "\n",
    "        return logits"
   ]
  },
  {
   "cell_type": "code",
   "execution_count": 14,
   "metadata": {},
   "outputs": [
    {
     "name": "stderr",
     "output_type": "stream",
     "text": [
      "All model checkpoint weights were used when initializing TFGPT2Model.\n",
      "\n",
      "All the weights of TFGPT2Model were initialized from the model checkpoint at ./gpt_ckpt.\n",
      "If your task is similar to the task the model of the ckeckpoint was trained on, you can already use TFGPT2Model for predictions without further training.\n"
     ]
    }
   ],
   "source": [
    "BASE_MODEL_PATH = './gpt_ckpt'\n",
    "with tf.device('/GPU:7'):\n",
    "    cls_model = TFGPT2Classifier(dir_path=BASE_MODEL_PATH, num_class=2)"
   ]
  },
  {
   "cell_type": "code",
   "execution_count": 15,
   "metadata": {},
   "outputs": [],
   "source": [
    "optimizer = tf.keras.optimizers.Adam(learning_rate=6.25e-5)\n",
    "loss = tf.keras.losses.SparseCategoricalCrossentropy(from_logits=True)\n",
    "metric = tf.keras.metrics.SparseCategoricalAccuracy('accuracy')\n",
    "#f1-score, AUC-ROC, accuracy\n",
    "cls_model.compile(optimizer=optimizer, loss=loss, metrics=[metric])"
   ]
  },
  {
   "cell_type": "code",
   "execution_count": 16,
   "metadata": {},
   "outputs": [
    {
     "name": "stdout",
     "output_type": "stream",
     "text": [
      "./mbti_data_out/tf2_gpt2_mbti_j_p_final -- Folder create complete \n",
      "\n",
      "Epoch 1/10\n",
      "1117/1117 [==============================] - ETA: 0s - loss: 0.6928 - accuracy: 0.5216\n",
      "Epoch 00001: val_accuracy improved from -inf to 0.51198, saving model to ./mbti_data_out/tf2_gpt2_mbti_j_p_final/weights.h5\n",
      "1117/1117 [==============================] - 312s 280ms/step - loss: 0.6928 - accuracy: 0.5216 - val_loss: 0.6912 - val_accuracy: 0.5120\n",
      "Epoch 2/10\n",
      "1117/1117 [==============================] - ETA: 0s - loss: 0.6851 - accuracy: 0.5522\n",
      "Epoch 00002: val_accuracy improved from 0.51198 to 0.55317, saving model to ./mbti_data_out/tf2_gpt2_mbti_j_p_final/weights.h5\n",
      "1117/1117 [==============================] - 439s 393ms/step - loss: 0.6851 - accuracy: 0.5522 - val_loss: 0.6859 - val_accuracy: 0.5532\n",
      "Epoch 3/10\n",
      "1117/1117 [==============================] - ETA: 0s - loss: 0.6607 - accuracy: 0.6065\n",
      "Epoch 00003: val_accuracy improved from 0.55317 to 0.55988, saving model to ./mbti_data_out/tf2_gpt2_mbti_j_p_final/weights.h5\n",
      "1117/1117 [==============================] - 446s 399ms/step - loss: 0.6607 - accuracy: 0.6065 - val_loss: 0.7058 - val_accuracy: 0.5599\n",
      "Epoch 4/10\n",
      "1117/1117 [==============================] - ETA: 0s - loss: 0.6099 - accuracy: 0.6694\n",
      "Epoch 00004: val_accuracy did not improve from 0.55988\n",
      "1117/1117 [==============================] - 445s 399ms/step - loss: 0.6099 - accuracy: 0.6694 - val_loss: 0.7296 - val_accuracy: 0.5507\n",
      "Epoch 5/10\n",
      "1117/1117 [==============================] - ETA: 0s - loss: 0.5233 - accuracy: 0.7430\n",
      "Epoch 00005: val_accuracy did not improve from 0.55988\n",
      "1117/1117 [==============================] - 444s 397ms/step - loss: 0.5233 - accuracy: 0.7430 - val_loss: 0.8356 - val_accuracy: 0.5433\n"
     ]
    }
   ],
   "source": [
    "model_name = f\"tf2_gpt2_mbti_{CLASSIFIER_TYPE}_final\"\n",
    "\n",
    "earlystop_callback = EarlyStopping(monitor='val_accuracy', min_delta=0.00001, patience=2)\n",
    "\n",
    "checkpoint_path = os.path.join(DATA_OUT_PATH, model_name, 'weights.h5')\n",
    "checkpoint_dir = os.path.dirname(checkpoint_path)\n",
    "\n",
    "if os.path.exists(checkpoint_dir):\n",
    "    print(\"{} -- Folder already exists \\n\".format(checkpoint_dir))\n",
    "else:\n",
    "    os.makedirs(checkpoint_dir, exist_ok=True)\n",
    "    print(\"{} -- Folder create complete \\n\".format(checkpoint_dir))\n",
    "    \n",
    "cp_callback = ModelCheckpoint(\n",
    "    checkpoint_path, monitor='val_accuracy', verbose=1, save_best_only=True, save_weights_only=True)\n",
    "with tf.device('/GPU:7'):\n",
    "    history = cls_model.fit(train_data_sents, train_data_labels, \n",
    "                            epochs=NUM_EPOCHS, \n",
    "                            batch_size=BATCH_SIZE,\n",
    "                            validation_split=VALID_SPLIT, \n",
    "                            callbacks=[earlystop_callback, cp_callback])"
   ]
  },
  {
   "cell_type": "code",
   "execution_count": 17,
   "metadata": {},
   "outputs": [
    {
     "data": {
      "image/png": "[encoded data removed]",
      "text/plain": [
       "<Figure size 432x288 with 1 Axes>"
      ]
     },
     "metadata": {
      "needs_background": "light"
     },
     "output_type": "display_data"
    }
   ],
   "source": [
    "plot_graphs(history, 'accuracy')\n"
   ]
  },
  {
   "cell_type": "code",
   "execution_count": 18,
   "metadata": {},
   "outputs": [
    {
     "data": {
      "image/png": "[encoded data removed]",
      "text/plain": [
       "<Figure size 432x288 with 1 Axes>"
      ]
     },
     "metadata": {
      "needs_background": "light"
     },
     "output_type": "display_data"
    }
   ],
   "source": [
    "plot_graphs(history, 'loss')"
   ]
  },
  {
   "cell_type": "markdown",
   "metadata": {},
   "source": [
    "## 모델 테스트"
   ]
  },
  {
   "cell_type": "code",
   "execution_count": 19,
   "metadata": {},
   "outputs": [
    {
     "data": {
      "text/html": [
       "<div>\n",
       "<style scoped>\n",
       "    .dataframe tbody tr th:only-of-type {\n",
       "        vertical-align: middle;\n",
       "    }\n",
       "\n",
       "    .dataframe tbody tr th {\n",
       "        vertical-align: top;\n",
       "    }\n",
       "\n",
       "    .dataframe thead th {\n",
       "        text-align: right;\n",
       "    }\n",
       "</style>\n",
       "<table border=\"1\" class=\"dataframe\">\n",
       "  <thead>\n",
       "    <tr style=\"text-align: right;\">\n",
       "      <th></th>\n",
       "      <th>Unnamed: 0</th>\n",
       "      <th>articleid</th>\n",
       "      <th>mbti</th>\n",
       "      <th>title</th>\n",
       "      <th>content</th>\n",
       "      <th>menu_id</th>\n",
       "      <th>mbti_label</th>\n",
       "      <th>e_i</th>\n",
       "      <th>n_s</th>\n",
       "      <th>f_t</th>\n",
       "      <th>j_p</th>\n",
       "    </tr>\n",
       "  </thead>\n",
       "  <tbody>\n",
       "    <tr>\n",
       "      <th>11142</th>\n",
       "      <td>41825</td>\n",
       "      <td>281699</td>\n",
       "      <td>enfp</td>\n",
       "      <td>동네친구 참 무섭네요ㅋㅋㅋㅋㅋㅋ</td>\n",
       "      <td>초중고 다녔던 지역에서 다른지역으로 3년정도 살았거든요그래서 다시 이쪽 지역으로 왔...</td>\n",
       "      <td>18</td>\n",
       "      <td>1</td>\n",
       "      <td>1</td>\n",
       "      <td>1</td>\n",
       "      <td>1</td>\n",
       "      <td>0</td>\n",
       "    </tr>\n",
       "    <tr>\n",
       "      <th>27004</th>\n",
       "      <td>9862</td>\n",
       "      <td>484473</td>\n",
       "      <td>entp</td>\n",
       "      <td>도대체 INFJ는 왜이리 ENTP을 좋아할까요? (엔팁 싫어하는 인프제도 찾아요)</td>\n",
       "      <td>제 친구가 저를 유독 좋아하는데요 얘 왜이래 싶을정도로요 알고보니 친구는 infj였...</td>\n",
       "      <td>101</td>\n",
       "      <td>3</td>\n",
       "      <td>1</td>\n",
       "      <td>1</td>\n",
       "      <td>0</td>\n",
       "      <td>0</td>\n",
       "    </tr>\n",
       "    <tr>\n",
       "      <th>13019</th>\n",
       "      <td>22605</td>\n",
       "      <td>95167</td>\n",
       "      <td>enfj</td>\n",
       "      <td>우와...</td>\n",
       "      <td>전 솔직히 MBTI라는 걸 그냥 몇가지 정보만 아는 정도 였거든요 그런데 이번에 학...</td>\n",
       "      <td>14</td>\n",
       "      <td>0</td>\n",
       "      <td>1</td>\n",
       "      <td>1</td>\n",
       "      <td>1</td>\n",
       "      <td>1</td>\n",
       "    </tr>\n",
       "    <tr>\n",
       "      <th>4273</th>\n",
       "      <td>41728</td>\n",
       "      <td>288074</td>\n",
       "      <td>infp</td>\n",
       "      <td>(여우)&lt;-바보</td>\n",
       "      <td>내일 섭센 갈 정도로 사고친건 아닌데 그냥 업글 겸 공초 부탁드리러 가려고요 역시 ...</td>\n",
       "      <td>18</td>\n",
       "      <td>9</td>\n",
       "      <td>0</td>\n",
       "      <td>1</td>\n",
       "      <td>1</td>\n",
       "      <td>0</td>\n",
       "    </tr>\n",
       "    <tr>\n",
       "      <th>292</th>\n",
       "      <td>7926</td>\n",
       "      <td>357941</td>\n",
       "      <td>infp</td>\n",
       "      <td>주인공에 엄청 몰입하시는 분들 있나요?</td>\n",
       "      <td>드라마 영화나 특히 소설 읽을 때 내가 주인공이 되고 싶고 괜히 대사 한 번 연기하...</td>\n",
       "      <td>101</td>\n",
       "      <td>9</td>\n",
       "      <td>0</td>\n",
       "      <td>1</td>\n",
       "      <td>1</td>\n",
       "      <td>0</td>\n",
       "    </tr>\n",
       "  </tbody>\n",
       "</table>\n",
       "</div>"
      ],
      "text/plain": [
       "       Unnamed: 0  articleid  mbti  \\\n",
       "11142       41825     281699  enfp   \n",
       "27004        9862     484473  entp   \n",
       "13019       22605      95167  enfj   \n",
       "4273        41728     288074  infp   \n",
       "292          7926     357941  infp   \n",
       "\n",
       "                                               title  \\\n",
       "11142                              동네친구 참 무섭네요ㅋㅋㅋㅋㅋㅋ   \n",
       "27004  도대체 INFJ는 왜이리 ENTP을 좋아할까요? (엔팁 싫어하는 인프제도 찾아요)   \n",
       "13019                                          우와...   \n",
       "4273                                        (여우)<-바보   \n",
       "292                            주인공에 엄청 몰입하시는 분들 있나요?   \n",
       "\n",
       "                                                 content  menu_id  mbti_label  \\\n",
       "11142  초중고 다녔던 지역에서 다른지역으로 3년정도 살았거든요그래서 다시 이쪽 지역으로 왔...       18           1   \n",
       "27004  제 친구가 저를 유독 좋아하는데요 얘 왜이래 싶을정도로요 알고보니 친구는 infj였...      101           3   \n",
       "13019  전 솔직히 MBTI라는 걸 그냥 몇가지 정보만 아는 정도 였거든요 그런데 이번에 학...       14           0   \n",
       "4273   내일 섭센 갈 정도로 사고친건 아닌데 그냥 업글 겸 공초 부탁드리러 가려고요 역시 ...       18           9   \n",
       "292    드라마 영화나 특히 소설 읽을 때 내가 주인공이 되고 싶고 괜히 대사 한 번 연기하...      101           9   \n",
       "\n",
       "       e_i  n_s  f_t  j_p  \n",
       "11142    1    1    1    0  \n",
       "27004    1    1    0    0  \n",
       "13019    1    1    1    1  \n",
       "4273     0    1    1    0  \n",
       "292      0    1    1    0  "
      ]
     },
     "execution_count": 19,
     "metadata": {},
     "output_type": "execute_result"
    }
   ],
   "source": [
    "test_data.head()"
   ]
  },
  {
   "cell_type": "code",
   "execution_count": 20,
   "metadata": {},
   "outputs": [],
   "source": [
    "# test_data = test_data[:50] # for test\n",
    "\n",
    "test_data_sents = []\n",
    "test_data_labels = []\n",
    "\n",
    "for test_sent, test_label in test_data[['content',CLASSIFIER_TYPE]].values:\n",
    "    test_tokenized_text = vocab[tokenizer(clean_text(test_sent))]\n",
    "\n",
    "    tokens = [vocab[vocab.bos_token]]  \n",
    "    tokens += pad_sequences([test_tokenized_text], \n",
    "                            SENT_MAX_LEN, \n",
    "                            value=vocab[vocab.padding_token], \n",
    "                            padding='post').tolist()[0] \n",
    "    tokens += [vocab[vocab.eos_token]]\n",
    "\n",
    "    test_data_sents.append(tokens)\n",
    "    test_data_labels.append(test_label)\n",
    "\n",
    "test_data_sents = np.array(test_data_sents, dtype=np.int64)\n",
    "test_data_labels = np.array(test_data_labels, dtype=np.int64)"
   ]
  },
  {
   "cell_type": "code",
   "execution_count": 21,
   "metadata": {},
   "outputs": [
    {
     "name": "stdout",
     "output_type": "stream",
     "text": [
      "num sents, labels 5584, 5584\n"
     ]
    }
   ],
   "source": [
    "print(\"num sents, labels {}, {}\".format(len(test_data_sents), len(test_data_labels)))"
   ]
  },
  {
   "cell_type": "code",
   "execution_count": 22,
   "metadata": {},
   "outputs": [
    {
     "name": "stdout",
     "output_type": "stream",
     "text": [
      "6/6 [==============================] - 23s 4s/step - loss: 0.7042 - accuracy: 0.5578\n",
      "test loss, test acc:  [0.7041749954223633, 0.5578438639640808]\n"
     ]
    }
   ],
   "source": [
    "with tf.device('/GPU:7'):\n",
    "    cls_model.load_weights(checkpoint_path)\n",
    "\n",
    "    results = cls_model.evaluate(test_data_sents, test_data_labels, batch_size=1024)\n",
    "    print(\"test loss, test acc: \", results)"
   ]
  }
 ],
 "metadata": {
  "kernelspec": {
   "display_name": "Python 3",
   "language": "python",
   "name": "python3"
  },
  "language_info": {
   "codemirror_mode": {
    "name": "ipython",
    "version": 3
   },
   "file_extension": ".py",
   "mimetype": "text/x-python",
   "name": "python",
   "nbconvert_exporter": "python",
   "pygments_lexer": "ipython3",
   "version": "3.8.5"
  }
 },
 "nbformat": 4,
 "nbformat_minor": 4
}
