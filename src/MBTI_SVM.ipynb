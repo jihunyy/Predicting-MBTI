{
 "cells": [
  {
   "cell_type": "markdown",
   "id": "4cf8c82b",
   "metadata": {},
   "source": [
    "# TF-IDF를 활용한 SVM 모델 구현  \n",
    "\n",
    "입력값에 대해 TF-IDF 값으로 벡터화 진행\n",
    "\n",
    "\n",
    "## 데이터 불러오기"
   ]
  },
  {
   "cell_type": "code",
   "execution_count": 28,
   "id": "788ab1c6",
   "metadata": {},
   "outputs": [
    {
     "data": {
      "text/html": [
       "<div>\n",
       "<style scoped>\n",
       "    .dataframe tbody tr th:only-of-type {\n",
       "        vertical-align: middle;\n",
       "    }\n",
       "\n",
       "    .dataframe tbody tr th {\n",
       "        vertical-align: top;\n",
       "    }\n",
       "\n",
       "    .dataframe thead th {\n",
       "        text-align: right;\n",
       "    }\n",
       "</style>\n",
       "<table border=\"1\" class=\"dataframe\">\n",
       "  <thead>\n",
       "    <tr style=\"text-align: right;\">\n",
       "      <th></th>\n",
       "      <th>Unnamed: 0</th>\n",
       "      <th>articleid</th>\n",
       "      <th>mbti</th>\n",
       "      <th>title</th>\n",
       "      <th>content</th>\n",
       "      <th>menu_id</th>\n",
       "      <th>mbti_label</th>\n",
       "      <th>e_i</th>\n",
       "      <th>n_s</th>\n",
       "      <th>f_t</th>\n",
       "      <th>j_p</th>\n",
       "    </tr>\n",
       "  </thead>\n",
       "  <tbody>\n",
       "    <tr>\n",
       "      <th>0</th>\n",
       "      <td>0</td>\n",
       "      <td>277264</td>\n",
       "      <td>estj</td>\n",
       "      <td>Estj istj 차이는 뭘까요?</td>\n",
       "      <td>저는 estj인데 istj 특징을 보면 별로 저랑 다르지않은것같아요 제 주변에 es...</td>\n",
       "      <td>11</td>\n",
       "      <td>6</td>\n",
       "      <td>1</td>\n",
       "      <td>0</td>\n",
       "      <td>0</td>\n",
       "      <td>1</td>\n",
       "    </tr>\n",
       "    <tr>\n",
       "      <th>1</th>\n",
       "      <td>1</td>\n",
       "      <td>277263</td>\n",
       "      <td>istj</td>\n",
       "      <td>블루스 추천</td>\n",
       "      <td>동영상 n n nGrover Washington Jr Ain t No S nshin...</td>\n",
       "      <td>11</td>\n",
       "      <td>14</td>\n",
       "      <td>0</td>\n",
       "      <td>0</td>\n",
       "      <td>0</td>\n",
       "      <td>1</td>\n",
       "    </tr>\n",
       "    <tr>\n",
       "      <th>2</th>\n",
       "      <td>2</td>\n",
       "      <td>277216</td>\n",
       "      <td>enfp</td>\n",
       "      <td>ENFP 여자 ESTJ 남자친구랑 오래갈 수 있을까요 ㅠㅠ</td>\n",
       "      <td>안녕하세요 ENFP 여자입니다 매번 짧고 금방 식는 연애만 해 왔는데지금 남자친구가...</td>\n",
       "      <td>11</td>\n",
       "      <td>1</td>\n",
       "      <td>1</td>\n",
       "      <td>1</td>\n",
       "      <td>1</td>\n",
       "      <td>0</td>\n",
       "    </tr>\n",
       "    <tr>\n",
       "      <th>3</th>\n",
       "      <td>3</td>\n",
       "      <td>276899</td>\n",
       "      <td>istj</td>\n",
       "      <td>생각에 확신이 없는 ISTJ</td>\n",
       "      <td>직장밴드에 이해하기 애매한 글이 올라왔어요 제 생각에는 찬성 반대로만 물으면 안 될...</td>\n",
       "      <td>11</td>\n",
       "      <td>14</td>\n",
       "      <td>0</td>\n",
       "      <td>0</td>\n",
       "      <td>0</td>\n",
       "      <td>1</td>\n",
       "    </tr>\n",
       "    <tr>\n",
       "      <th>4</th>\n",
       "      <td>4</td>\n",
       "      <td>276311</td>\n",
       "      <td>estj</td>\n",
       "      <td>원하는 연애스타일 있으신가요?</td>\n",
       "      <td>저는 개인적으로 알콩달콩도 좋지만 레드벨벳 싸이코 노래같은 그런연애 해보고 싶더라구...</td>\n",
       "      <td>11</td>\n",
       "      <td>6</td>\n",
       "      <td>1</td>\n",
       "      <td>0</td>\n",
       "      <td>0</td>\n",
       "      <td>1</td>\n",
       "    </tr>\n",
       "  </tbody>\n",
       "</table>\n",
       "</div>"
      ],
      "text/plain": [
       "   Unnamed: 0  articleid  mbti                             title  \\\n",
       "0           0     277264  estj                Estj istj 차이는 뭘까요?   \n",
       "1           1     277263  istj                            블루스 추천   \n",
       "2           2     277216  enfp  ENFP 여자 ESTJ 남자친구랑 오래갈 수 있을까요 ㅠㅠ   \n",
       "3           3     276899  istj                   생각에 확신이 없는 ISTJ   \n",
       "4           4     276311  estj                  원하는 연애스타일 있으신가요?   \n",
       "\n",
       "                                             content  menu_id  mbti_label  \\\n",
       "0  저는 estj인데 istj 특징을 보면 별로 저랑 다르지않은것같아요 제 주변에 es...       11           6   \n",
       "1  동영상 n n nGrover Washington Jr Ain t No S nshin...       11          14   \n",
       "2  안녕하세요 ENFP 여자입니다 매번 짧고 금방 식는 연애만 해 왔는데지금 남자친구가...       11           1   \n",
       "3  직장밴드에 이해하기 애매한 글이 올라왔어요 제 생각에는 찬성 반대로만 물으면 안 될...       11          14   \n",
       "4  저는 개인적으로 알콩달콩도 좋지만 레드벨벳 싸이코 노래같은 그런연애 해보고 싶더라구...       11           6   \n",
       "\n",
       "   e_i  n_s  f_t  j_p  \n",
       "0    1    0    0    1  \n",
       "1    0    0    0    1  \n",
       "2    1    1    1    0  \n",
       "3    0    0    0    1  \n",
       "4    1    0    0    1  "
      ]
     },
     "execution_count": 28,
     "metadata": {},
     "output_type": "execute_result"
    }
   ],
   "source": [
    "import pandas as pd\n",
    "\n",
    "DATA_IN_PATH = 'C:/Users/JS/Desktop/mbti_data/'\n",
    "TRAIN_CLEAN_DATA = 'preprocessing_final2.csv'\n",
    "\n",
    "train_data = pd.read_csv(DATA_IN_PATH + TRAIN_CLEAN_DATA)\n",
    "\n",
    "train_data.head()"
   ]
  },
  {
   "cell_type": "markdown",
   "id": "74e928c3",
   "metadata": {},
   "source": [
    "## 데이터 전처리\n",
    "### 형태소 분석기"
   ]
  },
  {
   "cell_type": "code",
   "execution_count": 29,
   "id": "0bb8f845",
   "metadata": {},
   "outputs": [],
   "source": [
    "from konlpy.tag import Okt\n",
    "import re\n",
    "\n",
    "def preprocessing(text, okt, remove_stopwords=False, stop_words=[]) :\n",
    "    # 1. 한글 및 공백 제외 문자 모두 제거\n",
    "    text_split = re.sub(\"[^가-힣ㄱ-ㅎㅏ-ㅣ\\\\s]\",\"\", text)\n",
    "    # 2. okt 객체를 사용해 형태소 단위로 나눈다\n",
    "    text_split = okt.morphs(text, stem=True)\n",
    "    # 3. 불용어 제거\n",
    "    if remove_stopwords :\n",
    "        text_split = [token for token in text_split if not token in stop_words]\n",
    "        \n",
    "    return text_split"
   ]
  },
  {
   "cell_type": "code",
   "execution_count": 30,
   "id": "853e57d8",
   "metadata": {},
   "outputs": [
    {
     "data": {
      "text/plain": [
       "[['저',\n",
       "  'estj',\n",
       "  '인데',\n",
       "  'istj',\n",
       "  '특징',\n",
       "  '보다',\n",
       "  '별로',\n",
       "  '저',\n",
       "  '랑',\n",
       "  '다르다',\n",
       "  '않다',\n",
       "  '같다',\n",
       "  '제',\n",
       "  '주변',\n",
       "  'estj',\n",
       "  'istj',\n",
       "  '늘다',\n",
       "  '명도',\n",
       "  '없다',\n",
       "  '비교',\n",
       "  '하다',\n",
       "  '없다',\n",
       "  '다른',\n",
       "  '분들',\n",
       "  '시기',\n",
       "  '에는',\n",
       "  '둘',\n",
       "  '차이점',\n",
       "  '보이다'],\n",
       " ['동영상',\n",
       "  'n',\n",
       "  'n',\n",
       "  'nGrover',\n",
       "  'Washington',\n",
       "  'Jr',\n",
       "  'Ain',\n",
       "  't',\n",
       "  'No',\n",
       "  'S',\n",
       "  'nshine',\n",
       "  'n',\n",
       "  'nyo',\n",
       "  't',\n",
       "  'e',\n",
       "  'n',\n",
       "  'n',\n",
       "  'n',\n",
       "  'nBill',\n",
       "  'withers',\n",
       "  '음악',\n",
       "  '으로',\n",
       "  '알려지다',\n",
       "  '있다',\n",
       "  '이건',\n",
       "  'Grover',\n",
       "  'Washington',\n",
       "  'Jr',\n",
       "  '연',\n",
       "  '곡',\n",
       "  '으로',\n",
       "  '기다',\n",
       "  '버젼',\n",
       "  '이다'],\n",
       " ['안녕하다',\n",
       "  'ENFP',\n",
       "  '여자',\n",
       "  '이다',\n",
       "  '매번',\n",
       "  '짧다',\n",
       "  '금방',\n",
       "  '식다',\n",
       "  '연애',\n",
       "  '만',\n",
       "  '해',\n",
       "  '오다',\n",
       "  '지금',\n",
       "  '남자친구',\n",
       "  '진짜',\n",
       "  '너무',\n",
       "  '좋다',\n",
       "  '얼굴',\n",
       "  '도',\n",
       "  '잘생기다',\n",
       "  '다정하다',\n",
       "  '가끔',\n",
       "  '씩',\n",
       "  '그',\n",
       "  '성격',\n",
       "  '적',\n",
       "  '인',\n",
       "  '차이',\n",
       "  '느끼다',\n",
       "  '직',\n",
       "  '까지',\n",
       "  '막',\n",
       "  '크다',\n",
       "  '충돌',\n",
       "  '없다',\n",
       "  '그리다',\n",
       "  '제',\n",
       "  '엄청',\n",
       "  '집착',\n",
       "  '하다',\n",
       "  '찡찡거리다',\n",
       "  '스타일',\n",
       "  '인데',\n",
       "  'estj',\n",
       "  '분',\n",
       "  '이렇다',\n",
       "  '귀찮다',\n",
       "  '남자친구',\n",
       "  '좀',\n",
       "  '버겁다',\n",
       "  '같다',\n",
       "  '노력',\n",
       "  '하다',\n",
       "  '고치다',\n",
       "  '있다',\n",
       "  '자다',\n",
       "  '안되다',\n",
       "  '저희',\n",
       "  '자다',\n",
       "  '만',\n",
       "  '날수',\n",
       "  '있다'],\n",
       " ['직장',\n",
       "  '밴드',\n",
       "  '이해',\n",
       "  '하다',\n",
       "  '애매하다',\n",
       "  '글',\n",
       "  '올라오다',\n",
       "  '제',\n",
       "  '생각',\n",
       "  '에는',\n",
       "  '찬성',\n",
       "  '반대',\n",
       "  '로만',\n",
       "  '물다',\n",
       "  '안',\n",
       "  '되다',\n",
       "  '같다',\n",
       "  '다른',\n",
       "  '사람',\n",
       "  '찬성',\n",
       "  '반대',\n",
       "  '댓글',\n",
       "  '달다',\n",
       "  '저',\n",
       "  '찬성',\n",
       "  '하나',\n",
       "  '나',\n",
       "  '신청',\n",
       "  '안',\n",
       "  '하다',\n",
       "  '게',\n",
       "  '반대',\n",
       "  '아니다',\n",
       "  '뭔가',\n",
       "  '이치',\n",
       "  '맞다',\n",
       "  '않다',\n",
       "  '같다',\n",
       "  '다른',\n",
       "  '람',\n",
       "  '다',\n",
       "  '찬성',\n",
       "  '반대',\n",
       "  '하다',\n",
       "  '밑',\n",
       "  '제',\n",
       "  '줄줄이',\n",
       "  '쓰기',\n",
       "  '부담',\n",
       "  '되다',\n",
       "  '하다',\n",
       "  '제',\n",
       "  '생각',\n",
       "  '맞다',\n",
       "  '같다',\n",
       "  '진짜',\n",
       "  '맞다',\n",
       "  '확인',\n",
       "  '받다']]"
      ]
     },
     "execution_count": 30,
     "metadata": {},
     "output_type": "execute_result"
    }
   ],
   "source": [
    "stop_words = ['은', '는', '이', '가', '하', '아', '것', '들', '의', '있', '되', '수', '보', '주', '등', '한', '.', '..', 'ㅠ', 'ㅠㅠ', '을', '를', '에',' 하다']\n",
    "okt=Okt()\n",
    "clean_content = []\n",
    "\n",
    "for content in train_data['content']:\n",
    "    #비어있는 데이터에서 멈추지 않도록 문자열인 경우에만 진행\n",
    "    if type(content) == str:\n",
    "        clean_content.append(preprocessing(content, okt, remove_stopwords=True, stop_words=stop_words))\n",
    "    else :\n",
    "        clean_content.append([]) #string이 아니면 비어있는 값 추가\n",
    "        \n",
    "clean_content[:4]"
   ]
  },
  {
   "cell_type": "code",
   "execution_count": 31,
   "id": "11f07599",
   "metadata": {},
   "outputs": [
    {
     "data": {
      "text/plain": [
       "['저 estj 인데 istj 특징 보다 별로 저 랑 다르다 않다 같다 제 주변 estj istj 늘다 명도 없다 비교 하다 없다 다른 분들 시기 에는 둘 차이점 보이다',\n",
       " '동영상 n n nGrover Washington Jr Ain t No S nshine n nyo t e n n n nBill withers 음악 으로 알려지다 있다 이건 Grover Washington Jr 연 곡 으로 기다 버젼 이다']"
      ]
     },
     "execution_count": 31,
     "metadata": {},
     "output_type": "execute_result"
    }
   ],
   "source": [
    "content_final=[]\n",
    "\n",
    "for text in clean_content :\n",
    "    content_mass=' '.join(text)\n",
    "    content_final.append(content_mass)\n",
    "\n",
    "content_final[:2]"
   ]
  },
  {
   "cell_type": "code",
   "execution_count": 32,
   "id": "5adcb8ca",
   "metadata": {},
   "outputs": [],
   "source": [
    "#내용과 라벨값 따로 리스트 지정\n",
    "content = list(content_final)\n",
    "label_e_i = list(train_data['e_i'])\n",
    "label_n_s = list(train_data['n_s'])\n",
    "label_f_t = list(train_data['f_t'])\n",
    "label_j_p = list(train_data['j_p'])"
   ]
  },
  {
   "cell_type": "markdown",
   "id": "74596053",
   "metadata": {},
   "source": [
    "## TF-IDF 벡터화"
   ]
  },
  {
   "cell_type": "code",
   "execution_count": 33,
   "id": "ad475c8b",
   "metadata": {},
   "outputs": [],
   "source": [
    "from sklearn.feature_extraction.text import TfidfVectorizer\n",
    "\n",
    "#tf-idf 벡터화\n",
    "#min_df : 설정한 값보다 특정 토큰의 df값이 더 적으면 벡터화 과정에서 제거\n",
    "#analyzer : 분석하기 위한 기준 단위(word or char)\n",
    "#sublinear_tf : 문서의 단어 빈도수에 대한 스무딩 여부 설정\n",
    "#ngram_range : 빈도의 기본 단위를 어느 범위의 n-gram으로 설정할 것인가\n",
    "#max_features : 각 벡터의 최대 길이, 특징의 길이 설정\n",
    "vectorizer = TfidfVectorizer(min_df=0.0, analyzer=\"char\", sublinear_tf=True, ngram_range=(1,3), max_features=5000)\n",
    "\n",
    "vectorized_data = vectorizer.fit_transform(content)"
   ]
  },
  {
   "cell_type": "markdown",
   "id": "b8780cfd",
   "metadata": {},
   "source": [
    "## 데이터셋 변환"
   ]
  },
  {
   "cell_type": "code",
   "execution_count": 34,
   "id": "82f453bf",
   "metadata": {},
   "outputs": [],
   "source": [
    "from sklearn.model_selection import train_test_split\n",
    "import numpy as np\n",
    "\n",
    "RANDOM_SEED = 42\n",
    "TEST_SPLIT = 0.2\n",
    "\n",
    "label_1 = np.array(label_e_i)\n",
    "label_2 = np.array(label_n_s)\n",
    "label_3 = np.array(label_f_t)\n",
    "label_4 = np.array(label_j_p)"
   ]
  },
  {
   "cell_type": "markdown",
   "id": "44a2cc44",
   "metadata": {},
   "source": [
    "## 1. E or I label\n",
    "### 데이터셋 분리"
   ]
  },
  {
   "cell_type": "code",
   "execution_count": 35,
   "id": "6ac32822",
   "metadata": {},
   "outputs": [],
   "source": [
    "train_input_1, eval_input_1, train_label_1, eval_label_1 = train_test_split(vectorized_data, label_1, test_size=TEST_SPLIT, random_state=RANDOM_SEED)"
   ]
  },
  {
   "cell_type": "markdown",
   "id": "9a0ee051",
   "metadata": {},
   "source": [
    "### 모델 선언 및 학습\n",
    "\n",
    "#### 선형분리 SVM\n",
    "사이킷런 라이브러리의 svm 객체를 사용해 구현한다."
   ]
  },
  {
   "cell_type": "code",
   "execution_count": 9,
   "id": "34c35f7f",
   "metadata": {},
   "outputs": [
    {
     "data": {
      "text/plain": [
       "SVC(kernel='linear')"
      ]
     },
     "execution_count": 9,
     "metadata": {},
     "output_type": "execute_result"
    }
   ],
   "source": [
    "import sklearn.svm as svm\n",
    "\n",
    "#SVM, kernel = 'linear' 로 선형분리 진행\n",
    "svm_clf_1 = svm.SVC(kernel='linear')\n",
    "svm_clf_1.fit(train_input_1, train_label_1)\n",
    "\n",
    "#pred = svm_clf.predict(eval_input)  #테스트\n",
    "\n",
    "#print(\"prediction accuracy: {:.2f}\".format(np.mean(pred==eval_label)))"
   ]
  },
  {
   "cell_type": "code",
   "execution_count": 14,
   "id": "87e6b348",
   "metadata": {},
   "outputs": [],
   "source": [
    "from sklearn.metrics import accuracy_score, precision_score, recall_score, confusion_matrix, f1_score, roc_auc_score\n",
    "\n",
    "def get_clf_eval(y_test, pred=None, pred_proba=None) :\n",
    "    confusion = confusion_matrix(y_test, pred)\n",
    "    accuracy = accuracy_score(y_test, pred)\n",
    "    precision = precision_score(y_test, pred)\n",
    "    recall = recall_score(y_test, pred)\n",
    "    f1 = f1_score(y_test, pred)\n",
    "    #ROC-AUC 추가\n",
    "    #roc_auc = roc_auc_score(y_test, pred_proba)\n",
    "    print('오차 행렬')\n",
    "    print(confusion)\n",
    "    #ROC-AUC print 추가\n",
    "    print('정확도: {0:.4f}, 정밀도: {1:.4f}, 재현율: {2:.4f}, F1: {3:.4f}'.format(accuracy, precision, recall, f1))"
   ]
  },
  {
   "cell_type": "code",
   "execution_count": 15,
   "id": "257a668b",
   "metadata": {},
   "outputs": [
    {
     "name": "stdout",
     "output_type": "stream",
     "text": [
      "오차 행렬\n",
      "[[5273  363]\n",
      " [2474  603]]\n",
      "정확도: 0.6744, 정밀도: 0.6242, 재현율: 0.1960, F1: 0.2983\n"
     ]
    }
   ],
   "source": [
    "pred_1=svm_clf_1.predict(eval_input_1)\n",
    "get_clf_eval(eval_label_1, pred_1)"
   ]
  },
  {
   "cell_type": "markdown",
   "id": "87aa440b",
   "metadata": {},
   "source": [
    "#### 비선형분리 SVM"
   ]
  },
  {
   "cell_type": "code",
   "execution_count": 36,
   "id": "c214c38b",
   "metadata": {},
   "outputs": [
    {
     "data": {
      "text/plain": [
       "SVC()"
      ]
     },
     "execution_count": 36,
     "metadata": {},
     "output_type": "execute_result"
    }
   ],
   "source": [
    "#SVM, kernel = 'rbf'로 비선형분리 진행\n",
    "\n",
    "svm_clf_rbf_1 = svm.SVC(kernel = 'rbf')\n",
    "svm_clf_rbf_1.fit(train_input_1, train_label_1)\n",
    "\n",
    "#pred_rbf = svm_clf_rbf.predict(eval_input)  #테스트\n",
    "\n",
    "#print(\"prediction accuracy: {:.2f}\".format(np.mean(pred_rbf==eval_label)))"
   ]
  },
  {
   "cell_type": "code",
   "execution_count": 37,
   "id": "e216e5e8",
   "metadata": {},
   "outputs": [],
   "source": [
    "from sklearn.metrics import accuracy_score, precision_score, recall_score, confusion_matrix, f1_score, roc_auc_score\n",
    "\n",
    "def get_clf_eval(y_test, pred=None, pred_proba=None) :\n",
    "    confusion = confusion_matrix(y_test, pred)\n",
    "    accuracy = accuracy_score(y_test, pred)\n",
    "    precision = precision_score(y_test, pred)\n",
    "    recall = recall_score(y_test, pred)\n",
    "    f1 = f1_score(y_test, pred)\n",
    "    #ROC-AUC 추가\n",
    "    #roc_auc = roc_auc_score(y_test, pred_proba)\n",
    "    print('오차 행렬')\n",
    "    print(confusion)\n",
    "    #ROC-AUC print 추가\n",
    "    print('정확도: {0:.4f}, 정밀도: {1:.4f}, 재현율: {2:.4f}, F1: {3:.4f}'.format(accuracy, precision, recall, f1))"
   ]
  },
  {
   "cell_type": "code",
   "execution_count": 38,
   "id": "a816b53b",
   "metadata": {},
   "outputs": [
    {
     "name": "stdout",
     "output_type": "stream",
     "text": [
      "오차 행렬\n",
      "[[5215  421]\n",
      " [2345  732]]\n",
      "정확도: 0.6825, 정밀도: 0.6349, 재현율: 0.2379, F1: 0.3461\n"
     ]
    }
   ],
   "source": [
    "pred_rbf_1=svm_clf_rbf_1.predict(eval_input_1)\n",
    "get_clf_eval(eval_label_1, pred_rbf_1)"
   ]
  },
  {
   "cell_type": "markdown",
   "id": "7121a843",
   "metadata": {},
   "source": [
    "## 2. N or S label\n",
    "### 데이터셋 분리"
   ]
  },
  {
   "cell_type": "code",
   "execution_count": 39,
   "id": "98be10d0",
   "metadata": {},
   "outputs": [],
   "source": [
    "train_input_2, eval_input_2, train_label_2, eval_label_2 = train_test_split(vectorized_data, label_2, test_size=TEST_SPLIT, random_state=RANDOM_SEED)"
   ]
  },
  {
   "cell_type": "markdown",
   "id": "b2ed3aab",
   "metadata": {},
   "source": [
    "### 모델 선언 및 학습\n",
    "#### 선형분리 SVM"
   ]
  },
  {
   "cell_type": "code",
   "execution_count": 17,
   "id": "16d08185",
   "metadata": {},
   "outputs": [
    {
     "name": "stdout",
     "output_type": "stream",
     "text": [
      "prediction accuracy: 0.77\n"
     ]
    }
   ],
   "source": [
    "#SVM, kernel = 'linear' 로 선형분리 진행\n",
    "svm_clf_2 = svm.SVC(kernel='linear')\n",
    "svm_clf_2.fit(train_input_2, train_label_2)\n",
    "\n",
    "#pred = svm_clf.predict(eval_input)  #테스트\n",
    "\n",
    "#print(\"prediction accuracy: {:.2f}\".format(np.mean(pred==eval_label)))"
   ]
  },
  {
   "cell_type": "code",
   "execution_count": 18,
   "id": "531796cf",
   "metadata": {},
   "outputs": [],
   "source": [
    "from sklearn.metrics import accuracy_score, precision_score, recall_score, confusion_matrix, f1_score, roc_auc_score\n",
    "\n",
    "def get_clf_eval(y_test, pred=None, pred_proba=None) :\n",
    "    confusion = confusion_matrix(y_test, pred)\n",
    "    accuracy = accuracy_score(y_test, pred)\n",
    "    precision = precision_score(y_test, pred)\n",
    "    recall = recall_score(y_test, pred)\n",
    "    f1 = f1_score(y_test, pred)\n",
    "    #ROC-AUC 추가\n",
    "    #roc_auc = roc_auc_score(y_test, pred_proba)\n",
    "    print('오차 행렬')\n",
    "    print(confusion)\n",
    "    #ROC-AUC print 추가\n",
    "    print('정확도: {0:.4f}, 정밀도: {1:.4f}, 재현율: {2:.4f}, F1: {3:.4f}'.format(accuracy, precision, recall, f1))"
   ]
  },
  {
   "cell_type": "code",
   "execution_count": 19,
   "id": "11c629b7",
   "metadata": {},
   "outputs": [
    {
     "name": "stdout",
     "output_type": "stream",
     "text": [
      "오차 행렬\n",
      "[[ 299 1827]\n",
      " [ 190 6397]]\n",
      "정확도: 0.7685, 정밀도: 0.7778, 재현율: 0.9712, F1: 0.8638\n"
     ]
    }
   ],
   "source": [
    "pred_2=svm_clf_2.predict(eval_input_2)\n",
    "get_clf_eval(eval_label_2, pred_2)"
   ]
  },
  {
   "cell_type": "markdown",
   "id": "1f113955",
   "metadata": {},
   "source": [
    "#### 비선형분리 SVM"
   ]
  },
  {
   "cell_type": "code",
   "execution_count": 40,
   "id": "c7bb7366",
   "metadata": {},
   "outputs": [
    {
     "data": {
      "text/plain": [
       "SVC()"
      ]
     },
     "execution_count": 40,
     "metadata": {},
     "output_type": "execute_result"
    }
   ],
   "source": [
    "#SVM, kernel = 'rbf'로 비선형분리 진행\n",
    "\n",
    "svm_clf_rbf_2 = svm.SVC(kernel = 'rbf')\n",
    "svm_clf_rbf_2.fit(train_input_2, train_label_2)\n",
    "\n",
    "#pred_rbf_2 = svm_clf_rbf_2.predict(eval_input_)  #테스트\n",
    "\n",
    "#print(\"prediction accuracy: {:.2f}\".format(np.mean(pred_rbf==eval_label)))"
   ]
  },
  {
   "cell_type": "code",
   "execution_count": 41,
   "id": "8f2e3a94",
   "metadata": {},
   "outputs": [],
   "source": [
    "from sklearn.metrics import accuracy_score, precision_score, recall_score, confusion_matrix, f1_score, roc_auc_score\n",
    "\n",
    "def get_clf_eval(y_test, pred=None, pred_proba=None) :\n",
    "    confusion = confusion_matrix(y_test, pred)\n",
    "    accuracy = accuracy_score(y_test, pred)\n",
    "    precision = precision_score(y_test, pred)\n",
    "    recall = recall_score(y_test, pred)\n",
    "    f1 = f1_score(y_test, pred)\n",
    "    #ROC-AUC 추가\n",
    "    #roc_auc = roc_auc_score(y_test, pred_proba)\n",
    "    print('오차 행렬')\n",
    "    print(confusion)\n",
    "    #ROC-AUC print 추가\n",
    "    print('정확도: {0:.4f}, 정밀도: {1:.4f}, 재현율: {2:.4f}, F1: {3:.4f}'.format(accuracy, precision, recall, f1))"
   ]
  },
  {
   "cell_type": "code",
   "execution_count": 42,
   "id": "fd9d0a68",
   "metadata": {},
   "outputs": [
    {
     "name": "stdout",
     "output_type": "stream",
     "text": [
      "오차 행렬\n",
      "[[ 372 1754]\n",
      " [ 195 6392]]\n",
      "정확도: 0.7763, 정밀도: 0.7847, 재현율: 0.9704, F1: 0.8677\n"
     ]
    }
   ],
   "source": [
    "pred_rbf_2=svm_clf_rbf_2.predict(eval_input_2)\n",
    "get_clf_eval(eval_label_2, pred_rbf_2)"
   ]
  },
  {
   "cell_type": "markdown",
   "id": "9738c430",
   "metadata": {},
   "source": [
    "## 3. F or T label\n",
    "### 데이터셋 분리"
   ]
  },
  {
   "cell_type": "code",
   "execution_count": 43,
   "id": "73c4258d",
   "metadata": {},
   "outputs": [],
   "source": [
    "train_input_3, eval_input_3, train_label_3, eval_label_3 = train_test_split(vectorized_data, label_3, test_size=TEST_SPLIT, random_state=RANDOM_SEED)"
   ]
  },
  {
   "cell_type": "markdown",
   "id": "8f44155f",
   "metadata": {},
   "source": [
    "### 모델 선언 및 학습\n",
    "#### 선형 분리 SVM"
   ]
  },
  {
   "cell_type": "code",
   "execution_count": 21,
   "id": "6690d948",
   "metadata": {},
   "outputs": [
    {
     "name": "stdout",
     "output_type": "stream",
     "text": [
      "prediction accuracy: 0.65\n"
     ]
    }
   ],
   "source": [
    "#SVM, kernel = 'linear' 로 선형분리 진행\n",
    "svm_clf_3 = svm.SVC(kernel='linear')\n",
    "svm_clf_3.fit(train_input_3, train_label_3)\n",
    "\n",
    "#pred = svm_clf.predict(eval_input)  #테스트\n",
    "\n",
    "#print(\"prediction accuracy: {:.2f}\".format(np.mean(pred==eval_label)))"
   ]
  },
  {
   "cell_type": "code",
   "execution_count": 22,
   "id": "a2b78edd",
   "metadata": {},
   "outputs": [],
   "source": [
    "from sklearn.metrics import accuracy_score, precision_score, recall_score, confusion_matrix, f1_score, roc_auc_score\n",
    "\n",
    "def get_clf_eval(y_test, pred=None, pred_proba=None) :\n",
    "    confusion = confusion_matrix(y_test, pred)\n",
    "    accuracy = accuracy_score(y_test, pred)\n",
    "    precision = precision_score(y_test, pred)\n",
    "    recall = recall_score(y_test, pred)\n",
    "    f1 = f1_score(y_test, pred)\n",
    "    #ROC-AUC 추가\n",
    "    #roc_auc = roc_auc_score(y_test, pred_proba)\n",
    "    print('오차 행렬')\n",
    "    print(confusion)\n",
    "    #ROC-AUC print 추가\n",
    "    print('정확도: {0:.4f}, 정밀도: {1:.4f}, 재현율: {2:.4f}, F1: {3:.4f}'.format(accuracy, precision, recall, f1))"
   ]
  },
  {
   "cell_type": "code",
   "execution_count": 23,
   "id": "7ce1dd30",
   "metadata": {},
   "outputs": [
    {
     "name": "stdout",
     "output_type": "stream",
     "text": [
      "오차 행렬\n",
      "[[2163 1893]\n",
      " [1177 3480]]\n",
      "정확도: 0.6477, 정밀도: 0.6477, 재현율: 0.7473, F1: 0.6939\n"
     ]
    }
   ],
   "source": [
    "pred_3=svm_clf_3.predict(eval_input_3)\n",
    "get_clf_eval(eval_label_3, pred_3)"
   ]
  },
  {
   "cell_type": "markdown",
   "id": "0f0f1c1e",
   "metadata": {},
   "source": [
    "#### 비선형 분리 SVM"
   ]
  },
  {
   "cell_type": "code",
   "execution_count": 44,
   "id": "ce03046b",
   "metadata": {},
   "outputs": [
    {
     "data": {
      "text/plain": [
       "SVC()"
      ]
     },
     "execution_count": 44,
     "metadata": {},
     "output_type": "execute_result"
    }
   ],
   "source": [
    "#SVM, kernel = 'rbf'로 비선형분리 진행\n",
    "\n",
    "svm_clf_rbf_3 = svm.SVC(kernel = 'rbf')\n",
    "svm_clf_rbf_3.fit(train_input_3, train_label_3)\n",
    "\n",
    "#pred_rbf = svm_clf_rbf.predict(eval_input)  #테스트\n",
    "\n",
    "#print(\"prediction accuracy: {:.2f}\".format(np.mean(pred_rbf==eval_label)))"
   ]
  },
  {
   "cell_type": "code",
   "execution_count": 45,
   "id": "1fef6e66",
   "metadata": {},
   "outputs": [],
   "source": [
    "from sklearn.metrics import accuracy_score, precision_score, recall_score, confusion_matrix, f1_score, roc_auc_score\n",
    "\n",
    "def get_clf_eval(y_test, pred=None, pred_proba=None) :\n",
    "    confusion = confusion_matrix(y_test, pred)\n",
    "    accuracy = accuracy_score(y_test, pred)\n",
    "    precision = precision_score(y_test, pred)\n",
    "    recall = recall_score(y_test, pred)\n",
    "    f1 = f1_score(y_test, pred)\n",
    "    #ROC-AUC 추가\n",
    "    #roc_auc = roc_auc_score(y_test, pred_proba)\n",
    "    print('오차 행렬')\n",
    "    print(confusion)\n",
    "    #ROC-AUC print 추가\n",
    "    print('정확도: {0:.4f}, 정밀도: {1:.4f}, 재현율: {2:.4f}, F1: {3:.4f}'.format(accuracy, precision, recall, f1))"
   ]
  },
  {
   "cell_type": "code",
   "execution_count": 46,
   "id": "436ec3fa",
   "metadata": {},
   "outputs": [
    {
     "name": "stdout",
     "output_type": "stream",
     "text": [
      "오차 행렬\n",
      "[[2115 1941]\n",
      " [1015 3642]]\n",
      "정확도: 0.6607, 정밀도: 0.6523, 재현율: 0.7820, F1: 0.7113\n"
     ]
    }
   ],
   "source": [
    "pred_rbf_3=svm_clf_rbf_3.predict(eval_input_3)\n",
    "get_clf_eval(eval_label_3, pred_rbf_3)"
   ]
  },
  {
   "cell_type": "markdown",
   "id": "d650dfac",
   "metadata": {},
   "source": [
    "## 4. J or P label\n",
    "### 데이터셋 분리"
   ]
  },
  {
   "cell_type": "code",
   "execution_count": 47,
   "id": "d469f69a",
   "metadata": {},
   "outputs": [],
   "source": [
    "train_input_4, eval_input_4, train_label_4, eval_label_4 = train_test_split(vectorized_data, label_4, test_size=TEST_SPLIT, random_state=RANDOM_SEED)"
   ]
  },
  {
   "cell_type": "markdown",
   "id": "fc1291f2",
   "metadata": {},
   "source": [
    "#### 선형 분리 SVM"
   ]
  },
  {
   "cell_type": "code",
   "execution_count": 25,
   "id": "37b46921",
   "metadata": {},
   "outputs": [
    {
     "name": "stdout",
     "output_type": "stream",
     "text": [
      "prediction accuracy: 0.72\n"
     ]
    }
   ],
   "source": [
    "#SVM, kernel = 'linear' 로 선형분리 진행\n",
    "svm_clf_4 = svm.SVC(kernel='linear')\n",
    "svm_clf_4.fit(train_input_4, train_label_4)\n",
    "\n",
    "#pred = svm_clf.predict(eval_input)  #테스트\n",
    "\n",
    "#print(\"prediction accuracy: {:.2f}\".format(np.mean(pred==eval_label)))"
   ]
  },
  {
   "cell_type": "code",
   "execution_count": 26,
   "id": "c9bd7185",
   "metadata": {},
   "outputs": [],
   "source": [
    "from sklearn.metrics import accuracy_score, precision_score, recall_score, confusion_matrix, f1_score, roc_auc_score\n",
    "\n",
    "def get_clf_eval(y_test, pred=None, pred_proba=None) :\n",
    "    confusion = confusion_matrix(y_test, pred)\n",
    "    accuracy = accuracy_score(y_test, pred)\n",
    "    precision = precision_score(y_test, pred)\n",
    "    recall = recall_score(y_test, pred)\n",
    "    f1 = f1_score(y_test, pred)\n",
    "    #ROC-AUC 추가\n",
    "    #roc_auc = roc_auc_score(y_test, pred_proba)\n",
    "    print('오차 행렬')\n",
    "    print(confusion)\n",
    "    #ROC-AUC print 추가\n",
    "    print('정확도: {0:.4f}, 정밀도: {1:.4f}, 재현율: {2:.4f}, F1: {3:.4f}'.format(accuracy, precision, recall, f1))"
   ]
  },
  {
   "cell_type": "code",
   "execution_count": 27,
   "id": "7d2cfcf5",
   "metadata": {},
   "outputs": [
    {
     "name": "stdout",
     "output_type": "stream",
     "text": [
      "오차 행렬\n",
      "[[5560  374]\n",
      " [2077  702]]\n",
      "정확도: 0.7187, 정밀도: 0.6524, 재현율: 0.2526, F1: 0.3642\n"
     ]
    }
   ],
   "source": [
    "pred_4=svm_clf_4.predict(eval_input_4)\n",
    "get_clf_eval(eval_label_4, pred_4)"
   ]
  },
  {
   "cell_type": "markdown",
   "id": "24f4bb64",
   "metadata": {},
   "source": [
    "#### 비선형 분리 SVM"
   ]
  },
  {
   "cell_type": "code",
   "execution_count": 48,
   "id": "036be695",
   "metadata": {},
   "outputs": [
    {
     "data": {
      "text/plain": [
       "SVC()"
      ]
     },
     "execution_count": 48,
     "metadata": {},
     "output_type": "execute_result"
    }
   ],
   "source": [
    "#SVM, kernel = 'rbf'로 비선형분리 진행\n",
    "\n",
    "svm_clf_rbf_4 = svm.SVC(kernel = 'rbf')\n",
    "svm_clf_rbf_4.fit(train_input_4, train_label_4)\n",
    "\n",
    "#pred_rbf = svm_clf_rbf.predict(eval_input)  #테스트\n",
    "\n",
    "#print(\"prediction accuracy: {:.2f}\".format(np.mean(pred_rbf==eval_label)))"
   ]
  },
  {
   "cell_type": "code",
   "execution_count": 49,
   "id": "651caaa5",
   "metadata": {},
   "outputs": [],
   "source": [
    "from sklearn.metrics import accuracy_score, precision_score, recall_score, confusion_matrix, f1_score, roc_auc_score\n",
    "\n",
    "def get_clf_eval(y_test, pred=None, pred_proba=None) :\n",
    "    confusion = confusion_matrix(y_test, pred)\n",
    "    accuracy = accuracy_score(y_test, pred)\n",
    "    precision = precision_score(y_test, pred)\n",
    "    recall = recall_score(y_test, pred)\n",
    "    f1 = f1_score(y_test, pred)\n",
    "    #ROC-AUC 추가\n",
    "    #roc_auc = roc_auc_score(y_test, pred_proba)\n",
    "    print('오차 행렬')\n",
    "    print(confusion)\n",
    "    #ROC-AUC print 추가\n",
    "    print('정확도: {0:.4f}, 정밀도: {1:.4f}, 재현율: {2:.4f}, F1: {3:.4f}'.format(accuracy, precision, recall, f1))"
   ]
  },
  {
   "cell_type": "code",
   "execution_count": 50,
   "id": "9455acde",
   "metadata": {},
   "outputs": [
    {
     "name": "stdout",
     "output_type": "stream",
     "text": [
      "오차 행렬\n",
      "[[5517  417]\n",
      " [1959  820]]\n",
      "정확도: 0.7273, 정밀도: 0.6629, 재현율: 0.2951, F1: 0.4084\n"
     ]
    }
   ],
   "source": [
    "pred_rbf_4=svm_clf_rbf_4.predict(eval_input_4)\n",
    "get_clf_eval(eval_label_4, pred_rbf_4)"
   ]
  },
  {
   "cell_type": "code",
   "execution_count": null,
   "id": "c4a6d792",
   "metadata": {},
   "outputs": [],
   "source": []
  }
 ],
 "metadata": {
  "kernelspec": {
   "display_name": "Python 3",
   "language": "python",
   "name": "python3"
  },
  "language_info": {
   "codemirror_mode": {
    "name": "ipython",
    "version": 3
   },
   "file_extension": ".py",
   "mimetype": "text/x-python",
   "name": "python",
   "nbconvert_exporter": "python",
   "pygments_lexer": "ipython3",
   "version": "3.8.8"
  }
 },
 "nbformat": 4,
 "nbformat_minor": 5
}
